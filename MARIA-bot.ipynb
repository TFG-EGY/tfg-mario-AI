{
 "cells": [
  {
   "cell_type": "code",
   "execution_count": null,
   "id": "56587942",
   "metadata": {},
   "outputs": [],
   "source": [
    "import warnings\n",
    "warnings.filterwarnings('ignore')\n",
    "import gym_super_mario_bros\n",
    "from nes_py.wrappers import JoypadSpace\n",
    "from gym_super_mario_bros.actions import SIMPLE_MOVEMENT #Importing simple controls"
   ]
  },
  {
   "cell_type": "code",
   "execution_count": null,
   "id": "d43cf04c",
   "metadata": {},
   "outputs": [],
   "source": [
    "#Creating the environment\n",
    "env = gym_super_mario_bros.make('SuperMarioBros-v0')"
   ]
  },
  {
   "cell_type": "code",
   "execution_count": null,
   "id": "7c93d25b",
   "metadata": {},
   "outputs": [],
   "source": [
    "#Random action\n",
    "acts = env.get_action_meanings()\n",
    "print(acts)\n",
    "\n",
    "#Input space shape\n",
    "shp = env.observation_space.shape\n",
    "print(shp)\n"
   ]
  },
  {
   "cell_type": "markdown",
   "id": "87e4eb36",
   "metadata": {},
   "source": [
    "### Preparing wrappers for preprocessing the environment"
   ]
  },
  {
   "cell_type": "code",
   "execution_count": null,
   "id": "834e70b6",
   "metadata": {},
   "outputs": [],
   "source": [
    "#Necessary imports\n",
    "import numpy as np\n",
    "import gym\n",
    "import collections "
   ]
  },
  {
   "cell_type": "code",
   "execution_count": null,
   "id": "673fdc07",
   "metadata": {},
   "outputs": [],
   "source": [
    "#Gym's wrappers to transform the input\n",
    "#Taken from: https://console.paperspace.com/ml-showcase/notebook/rcrd0w769nip72j?file=mario_notebook.ipynb\n",
    "\n",
    "class MaxAndSkipEnv(gym.Wrapper):\n",
    "    def __init__(self, env=None, skip=4):\n",
    "        \"\"\"Return only every `skip`-th frame\"\"\"\n",
    "        super(MaxAndSkipEnv, self).__init__(env)\n",
    "        # most recent raw observations (for max pooling across time steps)\n",
    "        self._obs_buffer = collections.deque(maxlen=2)\n",
    "        self._skip = skip\n",
    "\n",
    "    def step(self, action):\n",
    "        total_reward = 0.0\n",
    "        done = None\n",
    "        for _ in range(self._skip):\n",
    "            obs, reward, done, info = self.env.step(action)\n",
    "            self._obs_buffer.append(obs)\n",
    "            total_reward += reward\n",
    "            if done:\n",
    "                break\n",
    "        max_frame = np.max(np.stack(self._obs_buffer), axis=0)\n",
    "        return max_frame, total_reward, done, info\n",
    "\n",
    "    def reset(self):\n",
    "        \"\"\"Clear past frame buffer and init to first obs\"\"\"\n",
    "        self._obs_buffer.clear()\n",
    "        obs = self.env.reset()\n",
    "        self._obs_buffer.append(obs)\n",
    "        return obs\n",
    "\n",
    "\n",
    "class ImageToPyTorch(gym.ObservationWrapper):\n",
    "    def __init__(self, env):\n",
    "        super(ImageToPyTorch, self).__init__(env)\n",
    "        old_shape = self.observation_space.shape\n",
    "        self.observation_space = gym.spaces.Box(low=0.0, high=1.0, shape=(old_shape[-1], old_shape[0], old_shape[1]),\n",
    "                                                dtype=np.float32)\n",
    "\n",
    "    def observation(self, observation):\n",
    "        return np.moveaxis(observation, 2, 0)\n",
    "\n",
    "\n",
    "class ScaledFloatFrame(gym.ObservationWrapper):\n",
    "    \"\"\"Normalize pixel values in frame --> 0 to 1\"\"\"\n",
    "    def observation(self, obs):\n",
    "        return np.array(obs).astype(np.float32) / 255.0\n",
    "\n",
    "\n",
    "class BufferWrapper(gym.ObservationWrapper):\n",
    "    def __init__(self, env, n_steps, dtype=np.float32):\n",
    "        super(BufferWrapper, self).__init__(env)\n",
    "        self.dtype = dtype\n",
    "        old_space = env.observation_space\n",
    "        self.observation_space = gym.spaces.Box(old_space.low.repeat(n_steps, axis=0),\n",
    "                                                old_space.high.repeat(n_steps, axis=0), dtype=dtype)\n",
    "\n",
    "    def reset(self):\n",
    "        self.buffer = np.zeros_like(self.observation_space.low, dtype=self.dtype)\n",
    "        return self.observation(self.env.reset())\n",
    "\n",
    "    def observation(self, observation):\n",
    "        self.buffer[:-1] = self.buffer[1:]\n",
    "        self.buffer[-1] = observation\n",
    "        return self.buffer\n"
   ]
  },
  {
   "cell_type": "markdown",
   "id": "40a5ddb0",
   "metadata": {},
   "source": [
    "## Preprocessing the environment"
   ]
  },
  {
   "cell_type": "code",
   "execution_count": null,
   "id": "8db83317",
   "metadata": {},
   "outputs": [],
   "source": [
    "from gym.wrappers import ResizeObservation, GrayScaleObservation"
   ]
  },
  {
   "cell_type": "code",
   "execution_count": null,
   "id": "688f752d",
   "metadata": {},
   "outputs": [],
   "source": [
    "env = gym_super_mario_bros.make('SuperMarioBros-v0')\n",
    "\n",
    "def wrap_env(env):\n",
    "    env = MaxAndSkipEnv(env)\n",
    "    env = GrayScaleObservation(env, keep_dim=True) #Converting to grayscale\n",
    "    env = ResizeObservation(env, 84) #Resizing the observation\n",
    "    env = ImageToPyTorch(env) #Converting to PyTorch\n",
    "    env = BufferWrapper(env, 4) #Buffer of 4 frames\n",
    "    env = ScaledFloatFrame(env) #Scaling the frame to 0 to 1\n",
    "    return JoypadSpace(env, SIMPLE_MOVEMENT) #Adding simple controls"
   ]
  },
  {
   "cell_type": "code",
   "execution_count": null,
   "id": "6934d35c",
   "metadata": {},
   "outputs": [],
   "source": [
    "env = wrap_env(env)\n",
    "\n",
    "#Random action\n",
    "acts = env.get_action_meanings()\n",
    "print(acts)\n",
    "\n",
    "#Input space shape\n",
    "shp = env.observation_space.shape\n",
    "print(shp)"
   ]
  },
  {
   "cell_type": "code",
   "execution_count": null,
   "id": "892f2bbb",
   "metadata": {},
   "outputs": [],
   "source": [
    "print('Actions availables in the game: ', env.action_space.n)\n",
    "print(shp[0])"
   ]
  },
  {
   "cell_type": "markdown",
   "id": "b13cec45",
   "metadata": {},
   "source": [
    "## Neuronal Network Architecture"
   ]
  },
  {
   "cell_type": "code",
   "execution_count": null,
   "id": "d50c59bd",
   "metadata": {},
   "outputs": [],
   "source": [
    "import torch, torchvision\n",
    "import torch.nn as nn\n",
    "from torchsummary import summary\n"
   ]
  },
  {
   "cell_type": "code",
   "execution_count": null,
   "id": "baf5cf69",
   "metadata": {},
   "outputs": [],
   "source": [
    "#Defining the neural network with the atari architecture\n",
    "def make_DQN(input_shape, n_actions, summary_=True):\n",
    "    net  = nn.Sequential(\n",
    "        nn.Conv2d(input_shape[0], 32, kernel_size=8, stride=4),\n",
    "        nn.ReLU(),\n",
    "        nn.Conv2d(32, 64, kernel_size=4, stride=2),\n",
    "        nn.ReLU(),\n",
    "        nn.Conv2d(64, 64, kernel_size=3, stride=1),\n",
    "        nn.ReLU(),\n",
    "        nn.Flatten(),\n",
    "        nn.Linear(3136, 512),\n",
    "        nn.ReLU(),\n",
    "        nn.Linear(512, n_actions)\n",
    "        )\n",
    "    net.to(torch.device(\"cuda\"))\n",
    "    if summary_:\n",
    "        summary(net, env.observation_space.shape) #Printing the network\n",
    "    return net"
   ]
  },
  {
   "cell_type": "code",
   "execution_count": null,
   "id": "2deda4d7",
   "metadata": {},
   "outputs": [],
   "source": [
    "net = make_DQN(shp, env.action_space.n)"
   ]
  },
  {
   "cell_type": "markdown",
   "id": "9c2afc76",
   "metadata": {},
   "source": [
    "## Experience Replay and Target Network"
   ]
  },
  {
   "cell_type": "markdown",
   "id": "9d2264b9",
   "metadata": {},
   "source": [
    "### Experience replay"
   ]
  },
  {
   "cell_type": "code",
   "execution_count": null,
   "id": "6bcf878a",
   "metadata": {},
   "outputs": [],
   "source": [
    "#We will use 'deque' from collections to store the experiences in the replay buffer\n",
    "#Deque from collections to store the experiences in the replay buffer\n",
    "import time\n",
    "import numpy as np\n",
    "import collections\n",
    "from collections import deque"
   ]
  },
  {
   "cell_type": "code",
   "execution_count": null,
   "id": "fd224e86",
   "metadata": {},
   "outputs": [],
   "source": [
    "#Taken from: https://github.com/jorditorresBCN/aprendizaje-por-refuerzo/blob/main/Capitulo09.ipynb\n",
    "Experience = collections.namedtuple('Experience', field_names=['state', 'action', 'reward', 'done', 'new_state'])\n",
    "\n",
    "class ExperienceReplay:\n",
    "    def __init__(self, capacity):\n",
    "        self.buffer = deque(maxlen=capacity)\n",
    "\n",
    "    def __len__(self):\n",
    "        return len(self.buffer)\n",
    "\n",
    "    def append(self, experience):\n",
    "        self.buffer.append(experience)\n",
    "\n",
    "    def sample(self, BATCH_SIZE):\n",
    "        indices = np.random.choice(len(self.buffer), BATCH_SIZE, replace=False)\n",
    "        states, actions, rewards, dones, next_states = zip(*[self.buffer[idx] for idx in indices])\n",
    "        return np.array(states), np.array(actions), np.array(rewards, dtype=np.float32), \\\n",
    "               np.array(dones, dtype=np.uint8), np.array(next_states)"
   ]
  },
  {
   "cell_type": "markdown",
   "id": "8968c5f0",
   "metadata": {},
   "source": [
    "Target Network is a copy of the actual neural network to calculate the Q(s', a') value in the Bellman equation."
   ]
  },
  {
   "cell_type": "markdown",
   "id": "b98bcdc0",
   "metadata": {},
   "source": [
    "## Deep Q-Learning algorithm"
   ]
  },
  {
   "cell_type": "markdown",
   "id": "94759225",
   "metadata": {},
   "source": [
    "Hyperparameters"
   ]
  },
  {
   "cell_type": "code",
   "execution_count": null,
   "id": "e2916802",
   "metadata": {},
   "outputs": [],
   "source": [
    "MEAN_REWARD_BOUND = 12 #Mean reward to consider the training as successful. Maximum reward obtained in the training is 15. \n",
    "NUMBER_OF_REWARDS_TO_AVERAGE = 10\n",
    "\n",
    "GAMMA = 0.99\n",
    "BATCH_SIZE = 32\n",
    "LEARNING_RATE = 1e-4 #0.00025\n",
    "EXPERIENCE_REPLAY_SIZE = 10000 #100000 #REPLAY_BUFFER_SIZE = 100000\n",
    "SYNC_TARGET_NETWORK = 1000 #Target network is updated every 1000 steps: better 10000 as in deepmind paper\n",
    "\n",
    "EPS_START = 1.0\n",
    "EPS_DECAY = 0.9995\n",
    "EPS_MIN = 0.02"
   ]
  },
  {
   "cell_type": "markdown",
   "id": "da9cf7bf",
   "metadata": {},
   "source": [
    "2 fases principales:\n",
    "- Cuando se obtienen las muestras de la interacción del agente con el entorno al realizar acciones y estas se almacenan en forma de tuplas en el búfer de memoria D.\n",
    "- Aquella en la que se selecciona aleatoriamente un pequeño lote de tuplas desde D y se entrena la red neuronal con dicho lote de datos.\n",
    "\n",
    "No se podrá pasar a la fase de aprendizaje de inmediato, se deberá esperar hasta tener suficientes tuplas en el búfer de memoria D. En el pseudocódigo, no se borra la memoria D después de cada episodio porque nos permite recordar y construir lotes de experiencias entre episodios.\n",
    "\n",
    "\n",
    "**Algoritmo DQN:**\n",
    "\n",
    "![alt text](./images/dqn-algorithm.png \"DQN Algorithm\")\n"
   ]
  },
  {
   "cell_type": "markdown",
   "id": "720b3a71",
   "metadata": {},
   "source": [
    "    Agent"
   ]
  },
  {
   "cell_type": "code",
   "execution_count": null,
   "id": "2ec38fc3",
   "metadata": {},
   "outputs": [],
   "source": [
    "class Agent:\n",
    "    def __init__(self, env, exp_replay_buffer):\n",
    "        self.env = env\n",
    "        self.exp_replay_buffer = exp_replay_buffer\n",
    "        self._reset()\n",
    "    \n",
    "    def _reset(self):\n",
    "        self.current_state = self.env.reset()\n",
    "        self.total_reward = 0.0\n",
    "    \n",
    "    def step(self, net, epsilon=0.0, device='cuda'):\n",
    "        done_reward = None\n",
    "        if np.random.random() < epsilon:\n",
    "            action = self.env.action_space.sample()\n",
    "        else:\n",
    "            state_ = np.array([self.current_state])\n",
    "            state = torch.tensor(state_).to(device)\n",
    "            q_vals = net(state)\n",
    "            _, act_ = torch.max(q_vals, dim=1)\n",
    "            action = int(act_.item())\n",
    "        #print(action)\n",
    "        new_state, reward, is_done, _ = self.env.step(action)\n",
    "        self.total_reward += reward\n",
    "        exp = Experience(self.current_state, action, reward, is_done, new_state)\n",
    "        self.exp_replay_buffer.append(exp)\n",
    "        self.current_state = new_state\n",
    "        \n",
    "        if is_done:\n",
    "            done_reward = self.total_reward\n",
    "            self._reset()\n",
    "        return done_reward\n"
   ]
  },
  {
   "cell_type": "markdown",
   "id": "b5cfaf13",
   "metadata": {},
   "source": [
    "## Training and running"
   ]
  },
  {
   "cell_type": "code",
   "execution_count": null,
   "id": "9316fb37",
   "metadata": {},
   "outputs": [],
   "source": [
    "from torch.utils.tensorboard import SummaryWriter\n",
    "#%load_ext tensorboard"
   ]
  },
  {
   "cell_type": "code",
   "execution_count": null,
   "id": "58519936",
   "metadata": {},
   "outputs": [],
   "source": [
    "import datetime\n",
    "print(\">>>Training starts at \",datetime.datetime.now())"
   ]
  },
  {
   "cell_type": "code",
   "execution_count": null,
   "id": "c88b747d",
   "metadata": {},
   "outputs": [],
   "source": [
    "env = gym_super_mario_bros.make('SuperMarioBros-v0')\n",
    "env = wrap_env(env)\n",
    "net = make_DQN(shp, env.action_space.n)\n",
    "target_net = make_DQN(shp, env.action_space.n, False)\n",
    "\n",
    "buffer = ExperienceReplay(EXPERIENCE_REPLAY_SIZE)\n",
    "agent  = Agent(env, buffer)\n",
    "\n",
    "epsilon = EPS_START\n",
    "total_rewards = []\n",
    "frame_number = 0\n",
    "\n",
    "#Optimizer we will use to update the weights of the neural network\n",
    "optimizer = torch.optim.Adam(net.parameters(), lr=LEARNING_RATE)\n",
    "\n",
    "writer = SummaryWriter(comment=\"-\" + 'SuperMarioBros-v0')"
   ]
  },
  {
   "cell_type": "code",
   "execution_count": null,
   "id": "a1227f0e",
   "metadata": {},
   "outputs": [],
   "source": [
    "print(f\"Frame:{frame_number} | Total games:{len(total_rewards)} | (epsilon used ={epsilon:.2f})\")\n"
   ]
  },
  {
   "cell_type": "markdown",
   "id": "f350ff9c",
   "metadata": {},
   "source": [
    "Training loop"
   ]
  },
  {
   "cell_type": "code",
   "execution_count": null,
   "id": "8d969763",
   "metadata": {},
   "outputs": [],
   "source": [
    "import datetime\n",
    "print(\">>>Training starts at \",datetime.datetime.now())\n",
    "\n",
    "while True:\n",
    "        frame_number += 1\n",
    "        epsilon = max(epsilon*EPS_DECAY, EPS_MIN)\n",
    "\n",
    "        reward = agent.step(net, epsilon, device='cuda')\n",
    "        if reward is not None:\n",
    "            total_rewards.append(reward)\n",
    "\n",
    "            mean_reward = np.mean(total_rewards[-NUMBER_OF_REWARDS_TO_AVERAGE:])\n",
    "            \n",
    "            print(f\"Frame:{frame_number} | Total games:{len(total_rewards)} | Mean reward: {mean_reward:.3f}  (epsilon used ={epsilon:.2f})\")\n",
    "\n",
    "            #print(\"%d:  %d games, mean reward %.3f, (epsilon %.2f)\" % (frame_number, len(total_rewards), mean_reward, epsilon))\n",
    "            \n",
    "            writer.add_scalar(\"epsilon\", epsilon, frame_number)\n",
    "            writer.add_scalar(\"reward_100\", mean_reward, frame_number)\n",
    "            writer.add_scalar(\"reward\", reward, frame_number)\n",
    "\n",
    "\n",
    "            if mean_reward > MEAN_REWARD_BOUND:\n",
    "                print(f\"SOLVED in {frame_number} frames and {len(total_rewards)} games\")\n",
    "                # print(\"Solved in %d frames!\" % frame_number)\n",
    "                break\n",
    "\n",
    "        if len(buffer) < EXPERIENCE_REPLAY_SIZE:\n",
    "            continue\n",
    "\n",
    "        batch = buffer.sample(BATCH_SIZE)\n",
    "        states_, actions_, rewards_, dones_, next_states_ = batch\n",
    "\n",
    "        states = torch.tensor(states_).to('cuda')\n",
    "        next_states = torch.tensor(next_states_).to('cuda')\n",
    "        actions = torch.tensor(actions_).to('cuda')\n",
    "        rewards = torch.tensor(rewards_).to('cuda')\n",
    "        dones = torch.ByteTensor(dones_).to('cuda')\n",
    "\n",
    "        Q_values = net(states).gather(1, actions.unsqueeze(-1)).squeeze(-1)\n",
    "        \n",
    "        next_state_values = target_net(next_states).max(1)[0]\n",
    "        next_state_values[dones] = 0.0\n",
    "        next_state_values = next_state_values.detach()\n",
    "        \n",
    "        expected_Q_values = next_state_values * GAMMA + rewards\n",
    "        loss = nn.MSELoss()(Q_values, expected_Q_values)\n",
    "\n",
    "        optimizer.zero_grad()\n",
    "        loss.backward()\n",
    "        optimizer.step()\n",
    "\n",
    "        if frame_number % SYNC_TARGET_NETWORK == 0:\n",
    "            target_net.load_state_dict(net.state_dict())\n",
    "\n",
    "torch.save(net.state_dict(), 'SuperMarioBros-v0' + \".dat\")\n",
    "writer.close()\n",
    "print(\">>>Training ends at \",datetime.datetime.now())"
   ]
  },
  {
   "cell_type": "code",
   "execution_count": null,
   "id": "c8c303da",
   "metadata": {},
   "outputs": [],
   "source": []
  }
 ],
 "metadata": {
  "kernelspec": {
   "display_name": "Python 3 (ipykernel)",
   "language": "python",
   "name": "python3"
  },
  "language_info": {
   "codemirror_mode": {
    "name": "ipython",
    "version": 3
   },
   "file_extension": ".py",
   "mimetype": "text/x-python",
   "name": "python",
   "nbconvert_exporter": "python",
   "pygments_lexer": "ipython3",
   "version": "3.7.11"
  }
 },
 "nbformat": 4,
 "nbformat_minor": 5
}
