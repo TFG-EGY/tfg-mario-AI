{
 "cells": [
  {
   "cell_type": "code",
   "execution_count": 1,
   "id": "56587942",
   "metadata": {},
   "outputs": [],
   "source": [
    "import warnings\n",
    "warnings.filterwarnings('ignore')\n",
    "import gym_super_mario_bros\n",
    "from nes_py.wrappers import JoypadSpace\n",
    "from gym_super_mario_bros.actions import SIMPLE_MOVEMENT #Importing simple controls"
   ]
  },
  {
   "cell_type": "code",
   "execution_count": 2,
   "id": "d43cf04c",
   "metadata": {},
   "outputs": [],
   "source": [
    "#Creating the environment\n",
    "env = gym_super_mario_bros.make('SuperMarioBros-v0')"
   ]
  },
  {
   "cell_type": "code",
   "execution_count": 3,
   "id": "7c93d25b",
   "metadata": {},
   "outputs": [
    {
     "name": "stdout",
     "output_type": "stream",
     "text": [
      "['NOOP']\n",
      "(240, 256, 3)\n"
     ]
    }
   ],
   "source": [
    "#Random action\n",
    "acts = env.get_action_meanings()\n",
    "print(acts)\n",
    "\n",
    "#Input space shape\n",
    "shp = env.observation_space.shape\n",
    "print(shp)\n"
   ]
  },
  {
   "cell_type": "markdown",
   "id": "87e4eb36",
   "metadata": {},
   "source": [
    "### Preparing wrappers for preprocessing the environment"
   ]
  },
  {
   "cell_type": "code",
   "execution_count": 4,
   "id": "834e70b6",
   "metadata": {},
   "outputs": [],
   "source": [
    "#Necessary imports\n",
    "import numpy as np\n",
    "import gym\n",
    "import collections "
   ]
  },
  {
   "cell_type": "code",
   "execution_count": 5,
   "id": "673fdc07",
   "metadata": {},
   "outputs": [],
   "source": [
    "#Gym's wrappers to transform the input\n",
    "#Taken from: https://console.paperspace.com/ml-showcase/notebook/rcrd0w769nip72j?file=mario_notebook.ipynb\n",
    "\n",
    "class MaxAndSkipEnv(gym.Wrapper):\n",
    "    def __init__(self, env=None, skip=4):\n",
    "        \"\"\"Return only every `skip`-th frame\"\"\"\n",
    "        super(MaxAndSkipEnv, self).__init__(env)\n",
    "        # most recent raw observations (for max pooling across time steps)\n",
    "        self._obs_buffer = collections.deque(maxlen=2)\n",
    "        self._skip = skip\n",
    "\n",
    "    def step(self, action):\n",
    "        total_reward = 0.0\n",
    "        done = None\n",
    "        for _ in range(self._skip):\n",
    "            obs, reward, done, info = self.env.step(action)\n",
    "            self._obs_buffer.append(obs)\n",
    "            total_reward += reward\n",
    "            if done:\n",
    "                break\n",
    "        max_frame = np.max(np.stack(self._obs_buffer), axis=0)\n",
    "        return max_frame, total_reward, done, info\n",
    "\n",
    "    def reset(self):\n",
    "        \"\"\"Clear past frame buffer and init to first obs\"\"\"\n",
    "        self._obs_buffer.clear()\n",
    "        obs = self.env.reset()\n",
    "        self._obs_buffer.append(obs)\n",
    "        return obs\n",
    "\n",
    "\n",
    "class ImageToPyTorch(gym.ObservationWrapper):\n",
    "    def __init__(self, env):\n",
    "        super(ImageToPyTorch, self).__init__(env)\n",
    "        old_shape = self.observation_space.shape\n",
    "        self.observation_space = gym.spaces.Box(low=0.0, high=1.0, shape=(old_shape[-1], old_shape[0], old_shape[1]),\n",
    "                                                dtype=np.float32)\n",
    "\n",
    "    def observation(self, observation):\n",
    "        return np.moveaxis(observation, 2, 0)\n",
    "\n",
    "\n",
    "class ScaledFloatFrame(gym.ObservationWrapper):\n",
    "    \"\"\"Normalize pixel values in frame --> 0 to 1\"\"\"\n",
    "    def observation(self, obs):\n",
    "        return np.array(obs).astype(np.float32) / 255.0\n",
    "\n",
    "\n",
    "class BufferWrapper(gym.ObservationWrapper):\n",
    "    def __init__(self, env, n_steps, dtype=np.float32):\n",
    "        super(BufferWrapper, self).__init__(env)\n",
    "        self.dtype = dtype\n",
    "        old_space = env.observation_space\n",
    "        self.observation_space = gym.spaces.Box(old_space.low.repeat(n_steps, axis=0),\n",
    "                                                old_space.high.repeat(n_steps, axis=0), dtype=dtype)\n",
    "\n",
    "    def reset(self):\n",
    "        self.buffer = np.zeros_like(self.observation_space.low, dtype=self.dtype)\n",
    "        return self.observation(self.env.reset())\n",
    "\n",
    "    def observation(self, observation):\n",
    "        self.buffer[:-1] = self.buffer[1:]\n",
    "        self.buffer[-1] = observation\n",
    "        return self.buffer\n"
   ]
  },
  {
   "cell_type": "markdown",
   "id": "40a5ddb0",
   "metadata": {},
   "source": [
    "## Preprocessing the environment"
   ]
  },
  {
   "cell_type": "code",
   "execution_count": 6,
   "id": "8db83317",
   "metadata": {},
   "outputs": [],
   "source": [
    "from gym.wrappers import ResizeObservation, GrayScaleObservation"
   ]
  },
  {
   "cell_type": "code",
   "execution_count": 7,
   "id": "688f752d",
   "metadata": {},
   "outputs": [],
   "source": [
    "env = gym_super_mario_bros.make('SuperMarioBros-v0')\n",
    "\n",
    "def wrap_env(env):\n",
    "    env = MaxAndSkipEnv(env)\n",
    "    env = GrayScaleObservation(env, keep_dim=True) #Converting to grayscale\n",
    "    env = ResizeObservation(env, 84) #Resizing the observation\n",
    "    env = ImageToPyTorch(env) #Converting to PyTorch\n",
    "    env = BufferWrapper(env, 4) #Buffer of 4 frames\n",
    "    env = ScaledFloatFrame(env) #Scaling the frame to 0 to 1\n",
    "    return JoypadSpace(env, SIMPLE_MOVEMENT) #Adding simple controls"
   ]
  },
  {
   "cell_type": "code",
   "execution_count": 8,
   "id": "6934d35c",
   "metadata": {},
   "outputs": [
    {
     "name": "stdout",
     "output_type": "stream",
     "text": [
      "['NOOP', 'right', 'right A', 'right B', 'right A B', 'A', 'left']\n",
      "(4, 84, 84)\n"
     ]
    }
   ],
   "source": [
    "env = wrap_env(env)\n",
    "\n",
    "#Random action\n",
    "acts = env.get_action_meanings()\n",
    "print(acts)\n",
    "\n",
    "#Input space shape\n",
    "shp = env.observation_space.shape\n",
    "print(shp)"
   ]
  },
  {
   "cell_type": "code",
   "execution_count": 9,
   "id": "892f2bbb",
   "metadata": {},
   "outputs": [
    {
     "name": "stdout",
     "output_type": "stream",
     "text": [
      "7\n"
     ]
    }
   ],
   "source": [
    "print('Actions availables in the game: ', env.action_space.n)\n",
    "print(shp[0])"
   ]
  },
  {
   "cell_type": "markdown",
   "id": "b13cec45",
   "metadata": {},
   "source": [
    "## Neuronal Network Architecture"
   ]
  },
  {
   "cell_type": "code",
   "execution_count": 11,
   "id": "d50c59bd",
   "metadata": {},
   "outputs": [],
   "source": [
    "import torch, torchvision\n",
    "import torch.nn as nn\n",
    "from torchsummary import summary\n"
   ]
  },
  {
   "cell_type": "code",
   "execution_count": 21,
   "id": "baf5cf69",
   "metadata": {},
   "outputs": [],
   "source": [
    "#Defining the neural network with the atari architecture\n",
    "def make_DQN(input_shape, n_actions, summary_=True):\n",
    "    net  = nn.Sequential(\n",
    "        nn.Conv2d(input_shape[0], 32, kernel_size=8, stride=4),\n",
    "        nn.ReLU(),\n",
    "        nn.Conv2d(32, 64, kernel_size=4, stride=2),\n",
    "        nn.ReLU(),\n",
    "        nn.Conv2d(64, 64, kernel_size=3, stride=1),\n",
    "        nn.ReLU(),\n",
    "        nn.Flatten(),\n",
    "        nn.Linear(3136, 512),\n",
    "        nn.ReLU(),\n",
    "        nn.Linear(512, n_actions)\n",
    "        )\n",
    "    net.to(torch.device(\"cuda\"))\n",
    "    if summary_:\n",
    "        summary(net, env.observation_space.shape) #Printing the network\n",
    "    return net"
   ]
  },
  {
   "cell_type": "code",
   "execution_count": 24,
   "id": "2deda4d7",
   "metadata": {},
   "outputs": [
    {
     "name": "stdout",
     "output_type": "stream",
     "text": [
      "----------------------------------------------------------------\n",
      "        Layer (type)               Output Shape         Param #\n",
      "================================================================\n",
      "            Conv2d-1           [-1, 32, 20, 20]           8,224\n",
      "              ReLU-2           [-1, 32, 20, 20]               0\n",
      "            Conv2d-3             [-1, 64, 9, 9]          32,832\n",
      "              ReLU-4             [-1, 64, 9, 9]               0\n",
      "            Conv2d-5             [-1, 64, 7, 7]          36,928\n",
      "              ReLU-6             [-1, 64, 7, 7]               0\n",
      "           Flatten-7                 [-1, 3136]               0\n",
      "            Linear-8                  [-1, 512]       1,606,144\n",
      "              ReLU-9                  [-1, 512]               0\n",
      "           Linear-10                    [-1, 7]           3,591\n",
      "================================================================\n",
      "Total params: 1,687,719\n",
      "Trainable params: 1,687,719\n",
      "Non-trainable params: 0\n",
      "----------------------------------------------------------------\n",
      "Input size (MB): 0.11\n",
      "Forward/backward pass size (MB): 0.35\n",
      "Params size (MB): 6.44\n",
      "Estimated Total Size (MB): 6.90\n",
      "----------------------------------------------------------------\n"
     ]
    }
   ],
   "source": [
    "net = make_DQN(shp, env.action_space.n)"
   ]
  },
  {
   "cell_type": "markdown",
   "id": "9c2afc76",
   "metadata": {},
   "source": [
    "## Experience Replay and Target Network"
   ]
  },
  {
   "cell_type": "markdown",
   "id": "9d2264b9",
   "metadata": {},
   "source": [
    "### Experience replay"
   ]
  },
  {
   "cell_type": "code",
   "execution_count": 13,
   "id": "6bcf878a",
   "metadata": {},
   "outputs": [],
   "source": []
  },
  {
   "cell_type": "code",
   "execution_count": null,
   "id": "fd224e86",
   "metadata": {},
   "outputs": [],
   "source": []
  }
 ],
 "metadata": {
  "kernelspec": {
   "display_name": "Python 3 (ipykernel)",
   "language": "python",
   "name": "python3"
  },
  "language_info": {
   "codemirror_mode": {
    "name": "ipython",
    "version": 3
   },
   "file_extension": ".py",
   "mimetype": "text/x-python",
   "name": "python",
   "nbconvert_exporter": "python",
   "pygments_lexer": "ipython3",
   "version": "3.7.11"
  }
 },
 "nbformat": 4,
 "nbformat_minor": 5
}
