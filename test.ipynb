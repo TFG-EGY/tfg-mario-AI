{
 "cells": [
  {
   "cell_type": "markdown",
   "metadata": {},
   "source": [
    "## Evaluación de los resultados obtenidos"
   ]
  },
  {
   "cell_type": "markdown",
   "metadata": {},
   "source": [
    "En primer lugar evaluaremos los resultados obtenidos tras 30 ejecuciones del videojuego en cada algoritmo.\n",
    "- Se evaluará si los resultados siguen una distribución estadística normal haciendo uso del test de Kolmogorov Smirov.\n",
    "- Dependiendo de si siguen una distribución normal o no, entonces procederemos a realizar test ANOVA o Wilcoxon. "
   ]
  },
  {
   "cell_type": "markdown",
   "metadata": {},
   "source": []
  },
  {
   "cell_type": "markdown",
   "metadata": {},
   "source": [
    "#### Evaluación de la distribución que siguen los resultados de las puntuaciones."
   ]
  },
  {
   "cell_type": "code",
   "execution_count": 1,
   "metadata": {},
   "outputs": [],
   "source": [
    "from  scipy.stats import ks_2samp, mannwhitneyu\n",
    "import numpy as np\n",
    "import matplotlib.pyplot as plt"
   ]
  },
  {
   "cell_type": "markdown",
   "metadata": {},
   "source": []
  },
  {
   "cell_type": "code",
   "execution_count": 2,
   "metadata": {},
   "outputs": [],
   "source": [
    "def read_file(file):\n",
    "    with open(file, 'r') as f:\n",
    "        r = f.readline()\n",
    "    ls = []\n",
    "    data = r.strip().split(',')\n",
    "    [ls.append(int(float(d))) for d in data]\n",
    "    return ls"
   ]
  },
  {
   "cell_type": "code",
   "execution_count": null,
   "metadata": {},
   "outputs": [],
   "source": [
    "read_file('DDQN/models/ddqn/total_scores.csv')"
   ]
  },
  {
   "cell_type": "code",
   "execution_count": 3,
   "metadata": {},
   "outputs": [],
   "source": [
    "def data_test(data1, data2, show=True):\n",
    "    #En primer lugar se deberá comprobar si los datos siguen una distribución normal o no.\n",
    "    normal1 = normal_distribution(data1, show)\n",
    "    normal2 = normal_distribution(data2, show)\n",
    "    #Si no siguen una distribución normal, entonces realizamos la prueba de wilcoxon para ver si existen diferencias significantes entre los dos datos de muestra\n",
    "    if not normal1 or normal2:\n",
    "       res = mannwhitneyu(data1, data2) #Como el valor p-value no se acerca a cero, se puede decir que los conjuntos de datos no tienen mayor prob de tener valores superiores a los de la otra muestra.\n",
    "        #No hay diferencias significantes entre ambas poblaciones (según los datos de muestra).\n",
    "    if res.pvalue > 0.1: #La probabilidad de que las medianas sean parecidas\n",
    "        print(\"No hay diferencias significantes entre ambas poblaciones (según los datos de muestra).\")\n",
    "    else:\n",
    "        print(\"Existen diferencias significativas en los datos de ambas poblaciones.\")\n"
   ]
  },
  {
   "cell_type": "code",
   "execution_count": 4,
   "metadata": {},
   "outputs": [],
   "source": [
    "def show(data, normal_numbers):\n",
    "    print('Los datos de entrada son los siguientes: ', data)\n",
    "    plt.figure(figsize=(9,6))\n",
    "    plt.plot(data, '.')\n",
    "    \n",
    "    #Escalado de los datos para mostrar el histograma comparado a datos que siguen una distribución normal\n",
    "    sorted_data = np.sort(data, axis=0)\n",
    "    scaled_data = (sorted_data - sorted_data.mean()) / sorted_data.std()  #Tipificamos ya que la función kstest usa la distribcion normal estandar con media=0 y std = 1\n",
    "    print('Datos escalados con media=0 y desviación = 1: ', scaled_data)\n",
    "\n",
    "    #Definimos datos aleatorios del mismo tamaño que los nuestros para poder realizar una representación gráfica\n",
    "    plt.figure(figsize=(9,6))\n",
    "    plt.hist([scaled_data, normal_numbers], label = ['scaled_data', 'normal'])\n",
    "    plt.legend(loc = 'best')\n"
   ]
  },
  {
   "cell_type": "code",
   "execution_count": 5,
   "metadata": {},
   "outputs": [],
   "source": [
    "def normal_distribution(data, show_data = True):\n",
    "\n",
    "    #Definimos datos aleatorios que siguen una distribución normal del mismo tamaño que los nuestros para poder realizar una representación gráfica\n",
    "    normal_numbers = np.random.normal(loc=0, scale=1, size=np.size(data))\n",
    "    normal_numbers = np.sort(normal_numbers)\n",
    "    if show_data:\n",
    "        show(data, normal_numbers)\n",
    "    #Comprobamos si nuestros datos siguen la misma distribución que los otros (normal)\n",
    "    res = ks_2samp(data, normal_numbers) #Rechazamos la hipotesis nula, ya que pvalue es muy cercano a 0. Lo cual, por teoría, hace que rechacemos H0 y vemos que nuestros datos, no siguen una distribución normal.\n",
    "    #Hemos definido un valor de alfa de 0.05 para poder evaluar el p-value\n",
    "    if res.pvalue < 0.05: #Se rechaza la hipótesis nula, es un número muy cercano a cero\n",
    "        print('Los datos no siguen una distribución normal.')\n",
    "        return False\n",
    "    else:\n",
    "        print('Los datos siguen una distribución normal.')\n",
    "        return True   "
   ]
  },
  {
   "cell_type": "code",
   "execution_count": 32,
   "metadata": {},
   "outputs": [],
   "source": [
    "def get_mean_max_min(data):\n",
    "    #Mean of data\n",
    "    mean = np.mean(data)\n",
    "    print(\"La media de los resultados es: \", mean)\n",
    "\n",
    "    #Max result obtained\n",
    "    max_ = np.max(data)\n",
    "    print(\"El valor máximo de los resultados es: \", max_)\n",
    "\n",
    "    #Min result obtained\n",
    "    min_ = np.min(data)\n",
    "    print(\"El valor mínimo de los resultados es: \", min_)\n"
   ]
  },
  {
   "cell_type": "markdown",
   "metadata": {},
   "source": [
    "### Datos obtenidos para ser evaluados\n",
    "En primer lugar evaluaremos los datos del algoritmo DQN:"
   ]
  },
  {
   "cell_type": "code",
   "execution_count": 6,
   "metadata": {},
   "outputs": [],
   "source": [
    "DQN_SCORES_PATH = 'DDQN/models/dqn/total_scores.csv'\n",
    "DQN_REWARDS_PATH = 'DDQN/models/dqn/total_rewards.csv'\n",
    "DQN_LIFETIME_PATH = 'DDQN/models/dqn/total_life_times.csv'"
   ]
  },
  {
   "cell_type": "code",
   "execution_count": 7,
   "metadata": {},
   "outputs": [],
   "source": [
    "#Vector con los resultados obtenidos.\n",
    "#ALGORTIMO - DQN.\n",
    "dqn_scores = read_file(DQN_SCORES_PATH)\n",
    "dqn_rewards = read_file(DQN_REWARDS_PATH)\n",
    "dqn_lifetime = read_file(DQN_LIFETIME_PATH)"
   ]
  },
  {
   "cell_type": "code",
   "execution_count": 33,
   "metadata": {},
   "outputs": [
    {
     "name": "stdout",
     "output_type": "stream",
     "text": [
      "La media de los resultados es:  190.0\n",
      "El valor máximo de los resultados es:  900\n",
      "El valor mínimo de los resultados es:  0\n"
     ]
    }
   ],
   "source": [
    "#Valores medios, máximos y mínimos de las puntuaciones\n",
    "get_mean_max_min(dqn_scores)"
   ]
  },
  {
   "cell_type": "code",
   "execution_count": 34,
   "metadata": {},
   "outputs": [
    {
     "name": "stdout",
     "output_type": "stream",
     "text": [
      "La media de los resultados es:  584.3\n",
      "El valor máximo de los resultados es:  1391\n",
      "El valor mínimo de los resultados es:  227\n"
     ]
    }
   ],
   "source": [
    "#Valores medios, máximos y mínimos de las recompensas\n",
    "get_mean_max_min(dqn_rewards)"
   ]
  },
  {
   "cell_type": "code",
   "execution_count": 35,
   "metadata": {},
   "outputs": [
    {
     "name": "stdout",
     "output_type": "stream",
     "text": [
      "La media de los resultados es:  69.63333333333334\n",
      "El valor máximo de los resultados es:  312\n",
      "El valor mínimo de los resultados es:  5\n"
     ]
    }
   ],
   "source": [
    "#Valores medios, máximos y mínimos de los tiempos de vida\n",
    "get_mean_max_min(dqn_lifetime)"
   ]
  },
  {
   "cell_type": "code",
   "execution_count": 92,
   "metadata": {},
   "outputs": [
    {
     "name": "stdout",
     "output_type": "stream",
     "text": [
      "Los datos de entrada son los siguientes:  [200, 500, 0, 200, 400, 300, 400, 200, 0, 0, 200, 100, 0, 0, 900, 0, 600, 200, 200, 100, 0, 200, 100, 200, 100, 200, 0, 300, 100, 0]\n",
      "Datos escalados con media=0 y desviación = 1:  [-0.93192508 -0.93192508 -0.93192508 -0.93192508 -0.93192508 -0.93192508\n",
      " -0.93192508 -0.93192508 -0.93192508 -0.4414382  -0.4414382  -0.4414382\n",
      " -0.4414382  -0.4414382   0.04904869  0.04904869  0.04904869  0.04904869\n",
      "  0.04904869  0.04904869  0.04904869  0.04904869  0.04904869  0.53953558\n",
      "  0.53953558  1.03002246  1.03002246  1.52050935  2.01099623  3.48245689]\n",
      "Los datos no siguen una distribución normal.\n"
     ]
    },
    {
     "data": {
      "text/plain": [
       "False"
      ]
     },
     "execution_count": 92,
     "metadata": {},
     "output_type": "execute_result"
    },
    {
     "data": {
      "image/png": "[encoded data removed]",
      "text/plain": [
       "<Figure size 648x432 with 1 Axes>"
      ]
     },
     "metadata": {
      "needs_background": "light"
     },
     "output_type": "display_data"
    },
    {
     "data": {
      "image/png": "[encoded data removed]",
      "text/plain": [
       "<Figure size 648x432 with 1 Axes>"
      ]
     },
     "metadata": {
      "needs_background": "light"
     },
     "output_type": "display_data"
    }
   ],
   "source": [
    "#Primero evaluamos si los datos siguen o no una distribución normal\n",
    "normal_distribution(dqn_scores)"
   ]
  },
  {
   "cell_type": "code",
   "execution_count": 94,
   "metadata": {},
   "outputs": [
    {
     "name": "stdout",
     "output_type": "stream",
     "text": [
      "Los datos de entrada son los siguientes:  [779, 686, 242, 765, 1181, 875, 1087, 246, 592, 227, 233, 620, 587, 554, 1186, 243, 760, 611, 244, 733, 235, 636, 618, 231, 1391, 240, 253, 613, 625, 236]\n",
      "Datos escalados con media=0 y desviación = 1:  [-1.10079309 -1.08846963 -1.0823079  -1.07614617 -1.0730653  -1.06074184\n",
      " -1.05458011 -1.05149925 -1.04841838 -1.04225665 -1.0206906  -0.09335021\n",
      "  0.00831834  0.02372266  0.0822591   0.08842083  0.10382515  0.10998688\n",
      "  0.12539121  0.15928072  0.31332398  0.45812464  0.54130799  0.55671232\n",
      "  0.59984443  0.89560748  1.54875087  1.83835219  1.85375651  2.48533385]\n",
      "Los datos no siguen una distribución normal.\n"
     ]
    },
    {
     "data": {
      "text/plain": [
       "False"
      ]
     },
     "execution_count": 94,
     "metadata": {},
     "output_type": "execute_result"
    },
    {
     "data": {
      "image/png": "[encoded data removed]",
      "text/plain": [
       "<Figure size 648x432 with 1 Axes>"
      ]
     },
     "metadata": {
      "needs_background": "light"
     },
     "output_type": "display_data"
    },
    {
     "data": {
      "image/png": "[encoded data removed]",
      "text/plain": [
       "<Figure size 648x432 with 1 Axes>"
      ]
     },
     "metadata": {
      "needs_background": "light"
     },
     "output_type": "display_data"
    }
   ],
   "source": [
    "#Evaluación de las recompensas\n",
    "normal_distribution(dqn_rewards)"
   ]
  },
  {
   "cell_type": "code",
   "execution_count": 95,
   "metadata": {},
   "outputs": [
    {
     "name": "stdout",
     "output_type": "stream",
     "text": [
      "Los datos de entrada son los siguientes:  [41, 157, 6, 78, 186, 192, 289, 6, 34, 8, 7, 19, 28, 46, 271, 7, 312, 27, 7, 28, 7, 31, 18, 7, 71, 7, 5, 170, 17, 7]\n",
      "Datos escalados con media=0 y desviación = 1:  [-0.70150792 -0.69065427 -0.69065427 -0.67980061 -0.67980061 -0.67980061\n",
      " -0.67980061 -0.67980061 -0.67980061 -0.67980061 -0.66894696 -0.57126406\n",
      " -0.5604104  -0.54955675 -0.4627275  -0.45187385 -0.45187385 -0.41931288\n",
      " -0.38675192 -0.31077633 -0.25650805  0.01483333  0.09080892  0.94824769\n",
      "  1.0893452   1.26300369  1.32812562  2.18556439  2.38093019  2.63056426]\n",
      "Los datos no siguen una distribución normal.\n"
     ]
    },
    {
     "data": {
      "text/plain": [
       "False"
      ]
     },
     "execution_count": 95,
     "metadata": {},
     "output_type": "execute_result"
    },
    {
     "data": {
      "image/png": "[encoded data removed]",
      "text/plain": [
       "<Figure size 648x432 with 1 Axes>"
      ]
     },
     "metadata": {
      "needs_background": "light"
     },
     "output_type": "display_data"
    },
    {
     "data": {
      "image/png": "[encoded data removed]",
      "text/plain": [
       "<Figure size 648x432 with 1 Axes>"
      ]
     },
     "metadata": {
      "needs_background": "light"
     },
     "output_type": "display_data"
    }
   ],
   "source": [
    "#Evaluación del tiempo de vida\n",
    "normal_distribution(dqn_lifetime)"
   ]
  },
  {
   "cell_type": "markdown",
   "metadata": {},
   "source": [
    "Ahora se evaluarán los resultados del algoritmo DDQN:"
   ]
  },
  {
   "cell_type": "code",
   "execution_count": 19,
   "metadata": {},
   "outputs": [],
   "source": [
    "DDQN_SCORES_PATH = 'DDQN/models/ddqn/total_scores.csv'\n",
    "DDQN_REWARDS_PATH = 'DDQN/models/ddqn/total_rewards.csv'\n",
    "DDQN_LIFETIME_PATH = 'DDQN/models/ddqn/total_life_times.csv'"
   ]
  },
  {
   "cell_type": "code",
   "execution_count": 20,
   "metadata": {},
   "outputs": [],
   "source": [
    "#Ahora se evaluará DDQN\n",
    "ddqn_scores = read_file(DDQN_SCORES_PATH)\n",
    "ddqn_rewards = read_file(DDQN_REWARDS_PATH)\n",
    "ddqn_lifetime = read_file(DDQN_LIFETIME_PATH)"
   ]
  },
  {
   "cell_type": "code",
   "execution_count": 36,
   "metadata": {},
   "outputs": [
    {
     "name": "stdout",
     "output_type": "stream",
     "text": [
      "La media de los resultados es:  203.33333333333334\n",
      "El valor máximo de los resultados es:  600\n",
      "El valor mínimo de los resultados es:  0\n"
     ]
    }
   ],
   "source": [
    "#Valores medios, máximos y mínimos de las puntuaciones DDQN\n",
    "get_mean_max_min(ddqn_scores)"
   ]
  },
  {
   "cell_type": "code",
   "execution_count": 37,
   "metadata": {},
   "outputs": [
    {
     "name": "stdout",
     "output_type": "stream",
     "text": [
      "La media de los resultados es:  634.4\n",
      "El valor máximo de los resultados es:  1501\n",
      "El valor mínimo de los resultados es:  229\n"
     ]
    }
   ],
   "source": [
    "#Valores medios, máximos y mínimos de las recompensas DDQN\n",
    "get_mean_max_min(ddqn_rewards)"
   ]
  },
  {
   "cell_type": "code",
   "execution_count": 38,
   "metadata": {},
   "outputs": [
    {
     "name": "stdout",
     "output_type": "stream",
     "text": [
      "La media de los resultados es:  71.4\n",
      "El valor máximo de los resultados es:  400\n",
      "El valor mínimo de los resultados es:  6\n"
     ]
    }
   ],
   "source": [
    "#Valores medios, máximos y mínimos de los tiempos de vida DDQN\n",
    "get_mean_max_min(ddqn_lifetime)"
   ]
  },
  {
   "cell_type": "code",
   "execution_count": 96,
   "metadata": {},
   "outputs": [
    {
     "name": "stdout",
     "output_type": "stream",
     "text": [
      "Los datos de entrada son los siguientes:  [0, 0, 200, 0, 0, 300, 0, 400, 200, 200, 0, 0, 200, 200, 500, 600, 300, 0, 400, 400, 100, 200, 200, 300, 200, 0, 100, 400, 200, 500]\n",
      "Datos escalados con media=0 y desviación = 1:  [-1.16769136 -1.16769136 -1.16769136 -1.16769136 -1.16769136 -1.16769136\n",
      " -1.16769136 -1.16769136 -1.16769136 -0.59341692 -0.59341692 -0.01914248\n",
      " -0.01914248 -0.01914248 -0.01914248 -0.01914248 -0.01914248 -0.01914248\n",
      " -0.01914248 -0.01914248  0.55513196  0.55513196  0.55513196  1.1294064\n",
      "  1.1294064   1.1294064   1.1294064   1.70368084  1.70368084  2.27795528]\n",
      "Los datos no siguen una distribución normal.\n"
     ]
    },
    {
     "data": {
      "text/plain": [
       "False"
      ]
     },
     "execution_count": 96,
     "metadata": {},
     "output_type": "execute_result"
    },
    {
     "data": {
      "image/png": "[encoded data removed]",
      "text/plain": [
       "<Figure size 648x432 with 1 Axes>"
      ]
     },
     "metadata": {
      "needs_background": "light"
     },
     "output_type": "display_data"
    },
    {
     "data": {
      "image/png": "[encoded data removed]",
      "text/plain": [
       "<Figure size 648x432 with 1 Axes>"
      ]
     },
     "metadata": {
      "needs_background": "light"
     },
     "output_type": "display_data"
    }
   ],
   "source": [
    "#Evaluación de las puntuaciones\n",
    "normal_distribution(ddqn_scores)"
   ]
  },
  {
   "cell_type": "code",
   "execution_count": 97,
   "metadata": {},
   "outputs": [
    {
     "name": "stdout",
     "output_type": "stream",
     "text": [
      "Los datos de entrada son los siguientes:  [0, 0, 200, 0, 0, 300, 0, 400, 200, 200, 0, 0, 200, 200, 500, 600, 300, 0, 400, 400, 100, 200, 200, 300, 200, 0, 100, 400, 200, 500]\n",
      "Datos escalados con media=0 y desviación = 1:  [-1.16769136 -1.16769136 -1.16769136 -1.16769136 -1.16769136 -1.16769136\n",
      " -1.16769136 -1.16769136 -1.16769136 -0.59341692 -0.59341692 -0.01914248\n",
      " -0.01914248 -0.01914248 -0.01914248 -0.01914248 -0.01914248 -0.01914248\n",
      " -0.01914248 -0.01914248  0.55513196  0.55513196  0.55513196  1.1294064\n",
      "  1.1294064   1.1294064   1.1294064   1.70368084  1.70368084  2.27795528]\n",
      "Los datos no siguen una distribución normal.\n"
     ]
    },
    {
     "data": {
      "text/plain": [
       "False"
      ]
     },
     "execution_count": 97,
     "metadata": {},
     "output_type": "execute_result"
    },
    {
     "data": {
      "image/png": "[encoded data removed]",
      "text/plain": [
       "<Figure size 648x432 with 1 Axes>"
      ]
     },
     "metadata": {
      "needs_background": "light"
     },
     "output_type": "display_data"
    },
    {
     "data": {
      "image/png": "[encoded data removed]",
      "text/plain": [
       "<Figure size 648x432 with 1 Axes>"
      ]
     },
     "metadata": {
      "needs_background": "light"
     },
     "output_type": "display_data"
    }
   ],
   "source": [
    "#Evaluación de la recompensa obtenida en cada juego\n",
    "normal_distribution(ddqn_scores)"
   ]
  },
  {
   "cell_type": "code",
   "execution_count": 98,
   "metadata": {},
   "outputs": [
    {
     "name": "stdout",
     "output_type": "stream",
     "text": [
      "Los datos de entrada son los siguientes:  [605, 249, 623, 243, 619, 1308, 638, 1501, 250, 788, 235, 237, 229, 717, 854, 938, 782, 243, 610, 902, 617, 250, 689, 695, 1350, 230, 634, 267, 799, 930]\n",
      "Datos escalados con media=0 y desviación = 1:  [-1.16463176e+00 -1.16175896e+00 -1.14739498e+00 -1.14164938e+00\n",
      " -1.12441260e+00 -1.12441260e+00 -1.10717582e+00 -1.10430303e+00\n",
      " -1.10430303e+00 -1.05546548e+00 -8.44602210e-02 -7.00962379e-02\n",
      " -4.99866614e-02 -4.42410682e-02 -3.27498816e-02 -1.14911865e-03\n",
      "  1.03420679e-02  1.56854696e-01  1.74091476e-01  2.37293002e-01\n",
      "  4.24024783e-01  4.41261563e-01  4.72862326e-01  6.30866141e-01\n",
      "  7.68760379e-01  8.49198685e-01  8.72181058e-01  1.93511581e+00\n",
      "  2.05577327e+00  2.48956556e+00]\n",
      "Los datos no siguen una distribución normal.\n"
     ]
    },
    {
     "data": {
      "text/plain": [
       "False"
      ]
     },
     "execution_count": 98,
     "metadata": {},
     "output_type": "execute_result"
    },
    {
     "data": {
      "image/png": "[encoded data removed]",
      "text/plain": [
       "<Figure size 648x432 with 1 Axes>"
      ]
     },
     "metadata": {
      "needs_background": "light"
     },
     "output_type": "display_data"
    },
    {
     "data": {
      "image/png": "[encoded data removed]",
      "text/plain": [
       "<Figure size 648x432 with 1 Axes>"
      ]
     },
     "metadata": {
      "needs_background": "light"
     },
     "output_type": "display_data"
    }
   ],
   "source": [
    "#Evaluación de las recompensas\n",
    "normal_distribution(ddqn_rewards)"
   ]
  },
  {
   "cell_type": "code",
   "execution_count": 99,
   "metadata": {},
   "outputs": [
    {
     "name": "stdout",
     "output_type": "stream",
     "text": [
      "Los datos de entrada son los siguientes:  [29, 6, 20, 6, 21, 40, 29, 244, 6, 55, 7, 6, 7, 47, 219, 134, 61, 6, 137, 168, 31, 6, 93, 95, 33, 7, 33, 400, 44, 152]\n",
      "Datos escalados con media=0 y desviación = 1:  [-0.73302726 -0.73302726 -0.73302726 -0.73302726 -0.73302726 -0.73302726\n",
      " -0.72181889 -0.72181889 -0.72181889 -0.57611011 -0.56490174 -0.4752348\n",
      " -0.4752348  -0.45281806 -0.43040132 -0.43040132 -0.35194275 -0.30710928\n",
      " -0.27348418 -0.18381723 -0.11656703  0.24210075  0.26451748  0.70164383\n",
      "  0.73526893  0.90339445  1.08272833  1.65435509  1.93456429  3.68306967]\n",
      "Los datos no siguen una distribución normal.\n"
     ]
    },
    {
     "data": {
      "text/plain": [
       "False"
      ]
     },
     "execution_count": 99,
     "metadata": {},
     "output_type": "execute_result"
    },
    {
     "data": {
      "image/png": "[encoded data removed]",
      "text/plain": [
       "<Figure size 648x432 with 1 Axes>"
      ]
     },
     "metadata": {
      "needs_background": "light"
     },
     "output_type": "display_data"
    },
    {
     "data": {
      "image/png": "[encoded data removed]",
      "text/plain": [
       "<Figure size 648x432 with 1 Axes>"
      ]
     },
     "metadata": {
      "needs_background": "light"
     },
     "output_type": "display_data"
    }
   ],
   "source": [
    "#Evaluación del tiempo de vida\n",
    "normal_distribution(ddqn_lifetime)"
   ]
  },
  {
   "cell_type": "markdown",
   "metadata": {},
   "source": [
    "Finalmente se evaluarán los resultados del algoritmo PPO:"
   ]
  },
  {
   "cell_type": "code",
   "execution_count": 27,
   "metadata": {},
   "outputs": [],
   "source": [
    "PPO_SCORES_PATH = 'PPO/total_scores.csv'\n",
    "PPO_REWARDS_PATH = 'PPO/total_rewards.csv'\n",
    "PPO_LIFETIME_PATH = 'PPO/total_life_times.csv'"
   ]
  },
  {
   "cell_type": "code",
   "execution_count": 28,
   "metadata": {},
   "outputs": [],
   "source": [
    "ppo_scores = read_file(PPO_SCORES_PATH)\n",
    "ppo_rewards = read_file(PPO_REWARDS_PATH)\n",
    "ppo_lifetime = read_file(PPO_LIFETIME_PATH)"
   ]
  },
  {
   "cell_type": "code",
   "execution_count": 39,
   "metadata": {},
   "outputs": [
    {
     "name": "stdout",
     "output_type": "stream",
     "text": [
      "La media de los resultados es:  306.6666666666667\n",
      "El valor máximo de los resultados es:  1200\n",
      "El valor mínimo de los resultados es:  0\n"
     ]
    }
   ],
   "source": [
    "#Valores medios, máximos y mínimos de las puntuaciones PPO\n",
    "get_mean_max_min(ppo_scores)"
   ]
  },
  {
   "cell_type": "code",
   "execution_count": 40,
   "metadata": {},
   "outputs": [
    {
     "name": "stdout",
     "output_type": "stream",
     "text": [
      "La media de los resultados es:  1749.0\n",
      "El valor máximo de los resultados es:  3383\n",
      "El valor mínimo de los resultados es:  732\n"
     ]
    }
   ],
   "source": [
    "#Valores medios, máximos y mínimos de las recompensas PPO\n",
    "get_mean_max_min(ppo_rewards)"
   ]
  },
  {
   "cell_type": "code",
   "execution_count": 41,
   "metadata": {},
   "outputs": [
    {
     "name": "stdout",
     "output_type": "stream",
     "text": [
      "La media de los resultados es:  13.733333333333333\n",
      "El valor máximo de los resultados es:  41\n",
      "El valor mínimo de los resultados es:  3\n"
     ]
    }
   ],
   "source": [
    "#Valores medios, máximos y mínimos de los tiempos de vida PPO\n",
    "get_mean_max_min(ppo_lifetime)"
   ]
  },
  {
   "cell_type": "code",
   "execution_count": 100,
   "metadata": {},
   "outputs": [
    {
     "name": "stdout",
     "output_type": "stream",
     "text": [
      "Los datos no siguen una distribución normal.\n",
      "Los datos no siguen una distribución normal.\n",
      "Los datos no siguen una distribución normal.\n"
     ]
    },
    {
     "data": {
      "text/plain": [
       "False"
      ]
     },
     "execution_count": 100,
     "metadata": {},
     "output_type": "execute_result"
    }
   ],
   "source": [
    "#Evaluación de las puntuaciones\n",
    "normal_distribution(ppo_scores, show_data=False)\n",
    "\n",
    "#Evaluación de las recompensas obtenidas\n",
    "normal_distribution(ppo_rewards, show_data=False)\n",
    "\n",
    "#Evaluación del tiempo de vida\n",
    "normal_distribution(ppo_lifetime, show_data=False)"
   ]
  },
  {
   "cell_type": "markdown",
   "metadata": {},
   "source": [
    "#### Ahora, se evaluará conjuntamente los datos para realizar una comparación general entre ellos.\n"
   ]
  },
  {
   "cell_type": "code",
   "execution_count": 112,
   "metadata": {},
   "outputs": [
    {
     "name": "stdout",
     "output_type": "stream",
     "text": [
      "Los datos no siguen una distribución normal.\n",
      "Los datos no siguen una distribución normal.\n",
      "No hay diferencias significantes entre ambas poblaciones (según los datos de muestra).\n"
     ]
    }
   ],
   "source": [
    "data_test(dqn_scores, ddqn_scores, False)"
   ]
  },
  {
   "cell_type": "code",
   "execution_count": 113,
   "metadata": {},
   "outputs": [
    {
     "name": "stdout",
     "output_type": "stream",
     "text": [
      "Los datos no siguen una distribución normal.\n",
      "Los datos no siguen una distribución normal.\n",
      "No hay diferencias significantes entre ambas poblaciones (según los datos de muestra).\n"
     ]
    }
   ],
   "source": [
    "data_test(dqn_scores, ppo_scores, False)"
   ]
  },
  {
   "cell_type": "code",
   "execution_count": 115,
   "metadata": {},
   "outputs": [
    {
     "name": "stdout",
     "output_type": "stream",
     "text": [
      "Los datos no siguen una distribución normal.\n",
      "Los datos no siguen una distribución normal.\n",
      "No hay diferencias significantes entre ambas poblaciones (según los datos de muestra).\n"
     ]
    }
   ],
   "source": [
    "data_test(ddqn_scores, ppo_scores, False)"
   ]
  },
  {
   "cell_type": "markdown",
   "metadata": {},
   "source": [
    "Ahora se evaluarán las recompensas obtenidas"
   ]
  },
  {
   "cell_type": "code",
   "execution_count": 116,
   "metadata": {},
   "outputs": [
    {
     "name": "stdout",
     "output_type": "stream",
     "text": [
      "Los datos no siguen una distribución normal.\n",
      "Los datos no siguen una distribución normal.\n",
      "No hay diferencias significantes entre ambas poblaciones (según los datos de muestra).\n"
     ]
    }
   ],
   "source": [
    "data_test(dqn_rewards, ddqn_rewards, False)"
   ]
  },
  {
   "cell_type": "code",
   "execution_count": 117,
   "metadata": {},
   "outputs": [
    {
     "name": "stdout",
     "output_type": "stream",
     "text": [
      "Los datos no siguen una distribución normal.\n",
      "Los datos no siguen una distribución normal.\n",
      "Existen diferencias significativas en los datos de ambas poblaciones.\n"
     ]
    }
   ],
   "source": [
    "data_test(dqn_rewards, ppo_rewards, False)"
   ]
  },
  {
   "cell_type": "code",
   "execution_count": 119,
   "metadata": {},
   "outputs": [
    {
     "name": "stdout",
     "output_type": "stream",
     "text": [
      "Los datos no siguen una distribución normal.\n",
      "Los datos no siguen una distribución normal.\n",
      "Existen diferencias significativas en los datos de ambas poblaciones.\n"
     ]
    }
   ],
   "source": [
    "data_test(ddqn_rewards, ppo_rewards, False)"
   ]
  },
  {
   "cell_type": "markdown",
   "metadata": {},
   "source": [
    "Ahora se evalúa el tiempo de vida vivo"
   ]
  },
  {
   "cell_type": "code",
   "execution_count": 121,
   "metadata": {},
   "outputs": [
    {
     "name": "stdout",
     "output_type": "stream",
     "text": [
      "Los datos no siguen una distribución normal.\n",
      "Los datos no siguen una distribución normal.\n",
      "No hay diferencias significantes entre ambas poblaciones (según los datos de muestra).\n"
     ]
    }
   ],
   "source": [
    "data_test(dqn_lifetime, ddqn_lifetime, False)"
   ]
  },
  {
   "cell_type": "code",
   "execution_count": 122,
   "metadata": {},
   "outputs": [
    {
     "name": "stdout",
     "output_type": "stream",
     "text": [
      "Los datos no siguen una distribución normal.\n",
      "Los datos no siguen una distribución normal.\n",
      "Existen diferencias significativas en los datos de ambas poblaciones.\n"
     ]
    }
   ],
   "source": [
    "data_test(dqn_lifetime, ppo_lifetime, False)"
   ]
  },
  {
   "cell_type": "code",
   "execution_count": 124,
   "metadata": {},
   "outputs": [
    {
     "name": "stdout",
     "output_type": "stream",
     "text": [
      "Los datos no siguen una distribución normal.\n",
      "Los datos no siguen una distribución normal.\n",
      "Existen diferencias significativas en los datos de ambas poblaciones.\n"
     ]
    }
   ],
   "source": [
    "data_test(ddqn_lifetime, ppo_lifetime, False)"
   ]
  }
 ],
 "metadata": {
  "kernelspec": {
   "display_name": "Python 3.7.11 ('entornoTFGgpu')",
   "language": "python",
   "name": "python3"
  },
  "language_info": {
   "codemirror_mode": {
    "name": "ipython",
    "version": 3
   },
   "file_extension": ".py",
   "mimetype": "text/x-python",
   "name": "python",
   "nbconvert_exporter": "python",
   "pygments_lexer": "ipython3",
   "version": "3.7.11"
  },
  "orig_nbformat": 4,
  "vscode": {
   "interpreter": {
    "hash": "76c345bf07b92f4d0e2923a4c7fb730f0fc79469be65c901934659d18b2a6a5a"
   }
  }
 },
 "nbformat": 4,
 "nbformat_minor": 2
}
