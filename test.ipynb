{
 "cells": [
  {
   "cell_type": "markdown",
   "metadata": {},
   "source": [
    "## Evaluación de los resultados obtenidos"
   ]
  },
  {
   "cell_type": "markdown",
   "metadata": {},
   "source": [
    "En primer lugar evaluaremos los resultados obtenidos tras 30 ejecuciones del videojuego en cada algoritmo.\n",
    "- Se evaluará si los resultados siguen una distribución estadística normal haciendo uso del test de Kolmogorov Smirov.\n",
    "- Dependiendo de si siguen una distribución normal o no, entonces procederemos a realizar test ANOVA o XXXXXXX. "
   ]
  },
  {
   "cell_type": "markdown",
   "metadata": {},
   "source": []
  },
  {
   "cell_type": "markdown",
   "metadata": {},
   "source": [
    "#### Evaluación de la distribución que siguen los resultados de las puntuaciones."
   ]
  },
  {
   "cell_type": "code",
   "execution_count": 63,
   "metadata": {},
   "outputs": [],
   "source": [
    "from  scipy.stats import kstest, ks_2samp\n",
    "import numpy as np\n",
    "import matplotlib.pyplot as plt"
   ]
  },
  {
   "cell_type": "code",
   "execution_count": 93,
   "metadata": {},
   "outputs": [],
   "source": [
    "def show(data, normal_numbers):\n",
    "    print('Los datos de entrada son los siguientes: ', data)\n",
    "    plt.figure(figsize=(9,6))\n",
    "    plt.plot(data, '.')\n",
    "    \n",
    "    #Escalado de los datos para mostrar el histograma comparado a datos que siguen una distribución normal\n",
    "    sorted_data = np.sort(data, axis=0)\n",
    "    scaled_data = (sorted_data - sorted_data.mean()) / sorted_data.std()  #Tipificamos ya que la función kstest usa la distribcion normal estandar con media=0 y std = 1\n",
    "    print('Datos escalados con media=0 y desviación = 1: ', scaled_data)\n",
    "\n",
    "    #Definimos datos aleatorios del mismo tamaño que los nuestros para poder realizar una representación gráfica\n",
    "    plt.figure(figsize=(9,6))\n",
    "    plt.hist([scaled_data, normal_numbers], label = ['scaled_data', 'normal'])\n",
    "    plt.legend(loc = 'best')\n"
   ]
  },
  {
   "cell_type": "code",
   "execution_count": 99,
   "metadata": {},
   "outputs": [],
   "source": [
    "def normal_distribution(data, show_data = True):\n",
    "\n",
    "    #Definimos datos aleatorios que siguen una distribución normal del mismo tamaño que los nuestros para poder realizar una representación gráfica\n",
    "    normal_numbers = np.random.normal(loc=0, scale=1, size=np.size(data))\n",
    "    normal_numbers = np.sort(normal_numbers)\n",
    "    if show_data:\n",
    "        show(data, normal_numbers)\n",
    "    #Comprobamos si nuestros datos siguen la misma distribución que los otros (normal)\n",
    "    res = ks_2samp(dqn_scores, normal_numbers) #Rechazamos la hipotesis nula, ya que pvalue es muy cercano a 0. Lo cual, por teoría, hace que rechacemos H0 y vemos que nuestros datos, no siguen una distribución normal.\n",
    "    #Hemos definido un valor de alfa de 0.05 para poder evaluar el p-value\n",
    "    if res.pvalue < 0.05: #Se rechaza la hipótesis nula, es un número muy cercano a cero\n",
    "        print('Los datos no siguen una distribución normal.')\n",
    "        return False\n",
    "    else:\n",
    "        print('Los datos siguen una distribución normal.')\n",
    "        return True   "
   ]
  },
  {
   "cell_type": "code",
   "execution_count": 2,
   "metadata": {},
   "outputs": [],
   "source": [
    "#Vector con los resultados obtenidos.\n",
    "#ALGORTIMO - DQN.\n",
    "dqn_scores = [300, 200, 200, 200, 200, 300, 0, 200, 0, 400, 300, 700, 200, 0, 300, 100, 200, 100, 0, 200, 100, 0, 200, 100, 0, 500, 100, 0, 0, 100]"
   ]
  },
  {
   "cell_type": "code",
   "execution_count": 101,
   "metadata": {},
   "outputs": [
    {
     "name": "stdout",
     "output_type": "stream",
     "text": [
      "Los datos no siguen una distribución normal.\n"
     ]
    },
    {
     "data": {
      "text/plain": [
       "False"
      ]
     },
     "execution_count": 101,
     "metadata": {},
     "output_type": "execute_result"
    }
   ],
   "source": [
    "normal_distribution(dqn_scores, show_data=False)"
   ]
  },
  {
   "cell_type": "code",
   "execution_count": null,
   "metadata": {},
   "outputs": [],
   "source": [
    "#Ahora se evaluará DDQN\n",
    "ddqn_scores = [200, 300, 200, 200, 100, 200, 0, 300, 0, 100, 200, 0, 200, 200, 200, 200, 200, 200, 300, 0, 200, 0, 200, 300, 300, 0, 400, 100, 200, 300]"
   ]
  },
  {
   "cell_type": "code",
   "execution_count": null,
   "metadata": {},
   "outputs": [],
   "source": [
    "#Finalmente PPO\n",
    "ppo_scores = [0, 200, 500, 0, 200, 200, 0, 0, 100, 400, 0, 0, 0, 400, 400, 800, 300, 300, 200, 500, 400, 600, 1200, 200, 0, 500, 100, 400, 400, 100]"
   ]
  }
 ],
 "metadata": {
  "kernelspec": {
   "display_name": "Python 3.7.11 ('entornoTFGgpu')",
   "language": "python",
   "name": "python3"
  },
  "language_info": {
   "codemirror_mode": {
    "name": "ipython",
    "version": 3
   },
   "file_extension": ".py",
   "mimetype": "text/x-python",
   "name": "python",
   "nbconvert_exporter": "python",
   "pygments_lexer": "ipython3",
   "version": "3.7.11"
  },
  "orig_nbformat": 4,
  "vscode": {
   "interpreter": {
    "hash": "76c345bf07b92f4d0e2923a4c7fb730f0fc79469be65c901934659d18b2a6a5a"
   }
  }
 },
 "nbformat": 4,
 "nbformat_minor": 2
}
