{
 "cells": [
  {
   "cell_type": "markdown",
   "metadata": {},
   "source": [
    "## Evaluación de los resultados obtenidos"
   ]
  },
  {
   "cell_type": "markdown",
   "metadata": {},
   "source": [
    "En primer lugar evaluaremos los resultados obtenidos tras 30 ejecuciones del videojuego en cada algoritmo.\n",
    "- Se evaluará si los resultados siguen una distribución estadística normal haciendo uso del test de Kolmogorov Smirov.\n",
    "- Dependiendo de si siguen una distribución normal o no, entonces procederemos a realizar test ANOVA o Wilcoxon. "
   ]
  },
  {
   "cell_type": "markdown",
   "metadata": {},
   "source": [
    "#### Evaluación de la distribución que siguen los resultados de las puntuaciones."
   ]
  },
  {
   "cell_type": "code",
   "execution_count": 3,
   "metadata": {},
   "outputs": [],
   "source": [
    "from  scipy.stats import ks_2samp, mannwhitneyu\n",
    "import numpy as np\n",
    "import matplotlib.pyplot as plt"
   ]
  },
  {
   "cell_type": "markdown",
   "metadata": {},
   "source": [
    "Métodos para leer ficheros y mostrar datos"
   ]
  },
  {
   "cell_type": "code",
   "execution_count": 4,
   "metadata": {},
   "outputs": [],
   "source": [
    "def read_file(file):\n",
    "    with open(file, 'r') as f:\n",
    "        r = f.readline()\n",
    "    ls = []\n",
    "    data = r.strip().split(',')\n",
    "    [ls.append(int(float(d))) for d in data]\n",
    "    return ls"
   ]
  },
  {
   "cell_type": "code",
   "execution_count": 5,
   "metadata": {},
   "outputs": [],
   "source": [
    "def show(data, normal_numbers):\n",
    "    print('Los datos de entrada son los siguientes: ', data)\n",
    "    plt.figure(figsize=(9,6))\n",
    "    plt.plot(data, '.')\n",
    "    \n",
    "    #Escalado de los datos para mostrar el histograma comparado a datos que siguen una distribución normal\n",
    "    sorted_data = np.sort(data, axis=0)\n",
    "    scaled_data = (sorted_data - sorted_data.mean()) / sorted_data.std()  #Tipificamos ya que la función kstest usa la distribcion normal estandar con media=0 y std = 1\n",
    "    print('Datos escalados con media=0 y desviación = 1: ', scaled_data)\n",
    "\n",
    "    #Definimos datos aleatorios del mismo tamaño que los nuestros para poder realizar una representación gráfica\n",
    "    plt.figure(figsize=(9,6))\n",
    "    plt.hist([scaled_data, normal_numbers], label = ['scaled_data', 'normal'])\n",
    "    plt.legend(loc = 'best')\n"
   ]
  },
  {
   "cell_type": "markdown",
   "metadata": {},
   "source": [
    "Método para verificar si un conjunto de datos sigue o no una distribución normal"
   ]
  },
  {
   "cell_type": "code",
   "execution_count": 6,
   "metadata": {},
   "outputs": [],
   "source": [
    "def normal_distribution(data, show_data = True):\n",
    "\n",
    "    #Definimos datos aleatorios que siguen una distribución normal del mismo tamaño que los nuestros para poder realizar una representación gráfica\n",
    "    normal_numbers = np.random.normal(loc=0, scale=1, size=np.size(data))\n",
    "    normal_numbers = np.sort(normal_numbers)\n",
    "    if show_data:\n",
    "        show(data, normal_numbers)\n",
    "    #Comprobamos si nuestros datos siguen la misma distribución que los otros (normal)\n",
    "    res = ks_2samp(data, normal_numbers) #Rechazamos la hipotesis nula, ya que pvalue es muy cercano a 0. Lo cual, por teoría, hace que rechacemos H0 y vemos que nuestros datos, no siguen una distribución normal.\n",
    "    #Hemos definido un valor de alfa de 0.05 para poder evaluar el p-value\n",
    "    if res.pvalue < 0.05: #Se rechaza la hipótesis nula, es un número muy cercano a cero\n",
    "        print('Los datos no siguen una distribución normal.')\n",
    "        return False\n",
    "    else:\n",
    "        print('Los datos siguen una distribución normal.')\n",
    "        return True   "
   ]
  },
  {
   "cell_type": "markdown",
   "metadata": {},
   "source": [
    "Una vez determinado el tipo de distribución que sigue, se aplica el test estadístico de Wilcoxon"
   ]
  },
  {
   "cell_type": "code",
   "execution_count": 7,
   "metadata": {},
   "outputs": [],
   "source": [
    "def data_test(data1, data2, show=True):\n",
    "    #En primer lugar se deberá comprobar si los datos siguen una distribución normal o no.\n",
    "    normal1 = normal_distribution(data1, show)\n",
    "    normal2 = normal_distribution(data2, show)\n",
    "    #Si no siguen una distribución normal, entonces realizamos la prueba de wilcoxon para ver si existen diferencias significantes entre los dos datos de muestra\n",
    "    if not normal1 or not normal2:\n",
    "       res = mannwhitneyu(data1, data2) #Como el valor p-value no se acerca a cero, se puede decir que los conjuntos de datos no tienen mayor prob de tener valores superiores a los de la otra muestra.\n",
    "        #No hay diferencias significantes entre ambas poblaciones (según los datos de muestra).\n",
    "\n",
    "    if res.pvalue > 0.1: #La probabilidad de que las medianas sean parecidas\n",
    "        print(\"No hay diferencias significantes entre ambas poblaciones (según los datos de muestra). p-value: {}\".format(res.pvalue))\n",
    "    else:\n",
    "        print(\"Existen diferencias significativas en los datos de ambas poblaciones. p-value: {}\".format(res.pvalue))\n"
   ]
  },
  {
   "cell_type": "markdown",
   "metadata": {},
   "source": [
    "Método para la obtención de medidas estadísticas"
   ]
  },
  {
   "cell_type": "code",
   "execution_count": 8,
   "metadata": {},
   "outputs": [],
   "source": [
    "def get_mean_max_min(data):\n",
    "    #Mean of data\n",
    "    mean = np.mean(data)\n",
    "    print(\"La media de los resultados es: \", mean)\n",
    "\n",
    "    #Max result obtained\n",
    "    max_ = np.max(data)\n",
    "    print(\"El valor máximo de los resultados es: \", max_)\n",
    "\n",
    "    #Min result obtained\n",
    "    min_ = np.min(data)\n",
    "    print(\"El valor mínimo de los resultados es: \", min_)\n"
   ]
  },
  {
   "cell_type": "markdown",
   "metadata": {},
   "source": [
    "## Datos obtenidos para ser evaluados\n",
    "### En primer lugar evaluaremos los datos del algoritmo DQN:"
   ]
  },
  {
   "cell_type": "markdown",
   "metadata": {},
   "source": [
    "Directorios de los archivos .csv de datos"
   ]
  },
  {
   "cell_type": "code",
   "execution_count": 9,
   "metadata": {},
   "outputs": [],
   "source": [
    "DQN_SCORES_PATH = 'DDQN/models/dqn/total_scores.csv'\n",
    "DQN_REWARDS_PATH = 'DDQN/models/dqn/total_rewards.csv'\n",
    "DQN_LIFETIME_PATH = 'DDQN/models/dqn/total_life_times.csv'"
   ]
  },
  {
   "cell_type": "code",
   "execution_count": 10,
   "metadata": {},
   "outputs": [],
   "source": [
    "#Vector con los resultados obtenidos.\n",
    "#ALGORTIMO - DQN.\n",
    "dqn_scores = read_file(DQN_SCORES_PATH)\n",
    "dqn_rewards = read_file(DQN_REWARDS_PATH)\n",
    "dqn_lifetime = read_file(DQN_LIFETIME_PATH)"
   ]
  },
  {
   "cell_type": "code",
   "execution_count": 11,
   "metadata": {},
   "outputs": [
    {
     "name": "stdout",
     "output_type": "stream",
     "text": [
      "La media de los resultados es:  190.0\n",
      "El valor máximo de los resultados es:  900\n",
      "El valor mínimo de los resultados es:  0\n"
     ]
    }
   ],
   "source": [
    "#Valores medios, máximos y mínimos de las puntuaciones\n",
    "get_mean_max_min(dqn_scores)"
   ]
  },
  {
   "cell_type": "code",
   "execution_count": 12,
   "metadata": {},
   "outputs": [
    {
     "name": "stdout",
     "output_type": "stream",
     "text": [
      "La media de los resultados es:  584.3\n",
      "El valor máximo de los resultados es:  1391\n",
      "El valor mínimo de los resultados es:  227\n"
     ]
    }
   ],
   "source": [
    "#Valores medios, máximos y mínimos de las recompensas\n",
    "get_mean_max_min(dqn_rewards)"
   ]
  },
  {
   "cell_type": "code",
   "execution_count": 13,
   "metadata": {},
   "outputs": [
    {
     "name": "stdout",
     "output_type": "stream",
     "text": [
      "La media de los resultados es:  69.63333333333334\n",
      "El valor máximo de los resultados es:  312\n",
      "El valor mínimo de los resultados es:  5\n"
     ]
    }
   ],
   "source": [
    "#Valores medios, máximos y mínimos de los tiempos de vida\n",
    "get_mean_max_min(dqn_lifetime)"
   ]
  },
  {
   "cell_type": "code",
   "execution_count": 14,
   "metadata": {},
   "outputs": [
    {
     "name": "stdout",
     "output_type": "stream",
     "text": [
      "Los datos de entrada son los siguientes:  [200, 500, 0, 200, 400, 300, 400, 200, 0, 0, 200, 100, 0, 0, 900, 0, 600, 200, 200, 100, 0, 200, 100, 200, 100, 200, 0, 300, 100, 0]\n",
      "Datos escalados con media=0 y desviación = 1:  [-0.93192508 -0.93192508 -0.93192508 -0.93192508 -0.93192508 -0.93192508\n",
      " -0.93192508 -0.93192508 -0.93192508 -0.4414382  -0.4414382  -0.4414382\n",
      " -0.4414382  -0.4414382   0.04904869  0.04904869  0.04904869  0.04904869\n",
      "  0.04904869  0.04904869  0.04904869  0.04904869  0.04904869  0.53953558\n",
      "  0.53953558  1.03002246  1.03002246  1.52050935  2.01099623  3.48245689]\n",
      "Los datos no siguen una distribución normal.\n"
     ]
    },
    {
     "data": {
      "text/plain": [
       "False"
      ]
     },
     "execution_count": 14,
     "metadata": {},
     "output_type": "execute_result"
    },
    {
     "data": {
      "image/png": "[encoded data removed]",
      "text/plain": [
       "<Figure size 648x432 with 1 Axes>"
      ]
     },
     "metadata": {
      "needs_background": "light"
     },
     "output_type": "display_data"
    },
    {
     "data": {
      "image/png": "[encoded data removed]",
      "text/plain": [
       "<Figure size 648x432 with 1 Axes>"
      ]
     },
     "metadata": {
      "needs_background": "light"
     },
     "output_type": "display_data"
    }
   ],
   "source": [
    "#Primero evaluamos si los datos siguen o no una distribución normal\n",
    "normal_distribution(dqn_scores)"
   ]
  },
  {
   "cell_type": "code",
   "execution_count": 15,
   "metadata": {},
   "outputs": [
    {
     "name": "stdout",
     "output_type": "stream",
     "text": [
      "Los datos no siguen una distribución normal.\n"
     ]
    },
    {
     "data": {
      "text/plain": [
       "False"
      ]
     },
     "execution_count": 15,
     "metadata": {},
     "output_type": "execute_result"
    }
   ],
   "source": [
    "#Evaluación de las recompensas\n",
    "normal_distribution(dqn_rewards, False)"
   ]
  },
  {
   "cell_type": "code",
   "execution_count": 16,
   "metadata": {},
   "outputs": [
    {
     "name": "stdout",
     "output_type": "stream",
     "text": [
      "Los datos no siguen una distribución normal.\n"
     ]
    },
    {
     "data": {
      "text/plain": [
       "False"
      ]
     },
     "execution_count": 16,
     "metadata": {},
     "output_type": "execute_result"
    }
   ],
   "source": [
    "#Evaluación del tiempo de vida\n",
    "normal_distribution(dqn_lifetime, show_data=False)"
   ]
  },
  {
   "cell_type": "markdown",
   "metadata": {},
   "source": [
    "### Ahora se evaluarán los resultados del algoritmo DDQN:"
   ]
  },
  {
   "cell_type": "markdown",
   "metadata": {},
   "source": [
    "Directorios de los archivos .csv de datos"
   ]
  },
  {
   "cell_type": "code",
   "execution_count": 17,
   "metadata": {},
   "outputs": [],
   "source": [
    "DDQN_SCORES_PATH = 'DDQN/models/ddqn/total_scores.csv'\n",
    "DDQN_REWARDS_PATH = 'DDQN/models/ddqn/total_rewards.csv'\n",
    "DDQN_LIFETIME_PATH = 'DDQN/models/ddqn/total_life_times.csv'"
   ]
  },
  {
   "cell_type": "code",
   "execution_count": null,
   "metadata": {},
   "outputs": [],
   "source": [
    "ddqn_scores = read_file(DDQN_SCORES_PATH)\n",
    "ddqn_rewards = read_file(DDQN_REWARDS_PATH)\n",
    "ddqn_lifetime = read_file(DDQN_LIFETIME_PATH)"
   ]
  },
  {
   "cell_type": "code",
   "execution_count": 19,
   "metadata": {},
   "outputs": [
    {
     "name": "stdout",
     "output_type": "stream",
     "text": [
      "La media de los resultados es:  203.33333333333334\n",
      "El valor máximo de los resultados es:  600\n",
      "El valor mínimo de los resultados es:  0\n"
     ]
    }
   ],
   "source": [
    "#Valores medios, máximos y mínimos de las puntuaciones DDQN\n",
    "get_mean_max_min(ddqn_scores)"
   ]
  },
  {
   "cell_type": "code",
   "execution_count": 20,
   "metadata": {},
   "outputs": [
    {
     "name": "stdout",
     "output_type": "stream",
     "text": [
      "La media de los resultados es:  634.4\n",
      "El valor máximo de los resultados es:  1501\n",
      "El valor mínimo de los resultados es:  229\n"
     ]
    }
   ],
   "source": [
    "#Valores medios, máximos y mínimos de las recompensas DDQN\n",
    "get_mean_max_min(ddqn_rewards)"
   ]
  },
  {
   "cell_type": "code",
   "execution_count": 21,
   "metadata": {},
   "outputs": [
    {
     "name": "stdout",
     "output_type": "stream",
     "text": [
      "La media de los resultados es:  71.4\n",
      "El valor máximo de los resultados es:  400\n",
      "El valor mínimo de los resultados es:  6\n"
     ]
    }
   ],
   "source": [
    "#Valores medios, máximos y mínimos de los tiempos de vida DDQN\n",
    "get_mean_max_min(ddqn_lifetime)"
   ]
  },
  {
   "cell_type": "code",
   "execution_count": 22,
   "metadata": {},
   "outputs": [
    {
     "name": "stdout",
     "output_type": "stream",
     "text": [
      "Los datos no siguen una distribución normal.\n"
     ]
    },
    {
     "data": {
      "text/plain": [
       "False"
      ]
     },
     "execution_count": 22,
     "metadata": {},
     "output_type": "execute_result"
    }
   ],
   "source": [
    "#Evaluación de las puntuaciones\n",
    "normal_distribution(ddqn_scores, show_data=False)"
   ]
  },
  {
   "cell_type": "code",
   "execution_count": 23,
   "metadata": {},
   "outputs": [
    {
     "name": "stdout",
     "output_type": "stream",
     "text": [
      "Los datos de entrada son los siguientes:  [605, 249, 623, 243, 619, 1308, 638, 1501, 250, 788, 235, 237, 229, 717, 854, 938, 782, 243, 610, 902, 617, 250, 689, 695, 1350, 230, 634, 267, 799, 930]\n",
      "Datos escalados con media=0 y desviación = 1:  [-1.16463176e+00 -1.16175896e+00 -1.14739498e+00 -1.14164938e+00\n",
      " -1.12441260e+00 -1.12441260e+00 -1.10717582e+00 -1.10430303e+00\n",
      " -1.10430303e+00 -1.05546548e+00 -8.44602210e-02 -7.00962379e-02\n",
      " -4.99866614e-02 -4.42410682e-02 -3.27498816e-02 -1.14911865e-03\n",
      "  1.03420679e-02  1.56854696e-01  1.74091476e-01  2.37293002e-01\n",
      "  4.24024783e-01  4.41261563e-01  4.72862326e-01  6.30866141e-01\n",
      "  7.68760379e-01  8.49198685e-01  8.72181058e-01  1.93511581e+00\n",
      "  2.05577327e+00  2.48956556e+00]\n",
      "Los datos no siguen una distribución normal.\n"
     ]
    },
    {
     "data": {
      "text/plain": [
       "False"
      ]
     },
     "execution_count": 23,
     "metadata": {},
     "output_type": "execute_result"
    },
    {
     "data": {
      "image/png": "[encoded data removed]",
      "text/plain": [
       "<Figure size 648x432 with 1 Axes>"
      ]
     },
     "metadata": {
      "needs_background": "light"
     },
     "output_type": "display_data"
    },
    {
     "data": {
      "image/png": "[encoded data removed]",
      "text/plain": [
       "<Figure size 648x432 with 1 Axes>"
      ]
     },
     "metadata": {
      "needs_background": "light"
     },
     "output_type": "display_data"
    }
   ],
   "source": [
    "#Evaluación de la recompensa obtenida en cada juego\n",
    "normal_distribution(ddqn_rewards)"
   ]
  },
  {
   "cell_type": "code",
   "execution_count": 24,
   "metadata": {},
   "outputs": [
    {
     "name": "stdout",
     "output_type": "stream",
     "text": [
      "Los datos no siguen una distribución normal.\n"
     ]
    },
    {
     "data": {
      "text/plain": [
       "False"
      ]
     },
     "execution_count": 24,
     "metadata": {},
     "output_type": "execute_result"
    }
   ],
   "source": [
    "#Evaluación del tiempo de vida\n",
    "normal_distribution(ddqn_lifetime, show_data=False)"
   ]
  },
  {
   "cell_type": "markdown",
   "metadata": {},
   "source": [
    "### Finalmente se evaluarán los resultados del algoritmo PPO:\n",
    "Directorios de los archivos .csv de datos:"
   ]
  },
  {
   "cell_type": "code",
   "execution_count": 25,
   "metadata": {},
   "outputs": [],
   "source": [
    "PPO_SCORES_PATH = 'PPO/total_scores.csv'\n",
    "PPO_REWARDS_PATH = 'PPO/total_rewards.csv'\n",
    "PPO_LIFETIME_PATH = 'PPO/total_life_times.csv'"
   ]
  },
  {
   "cell_type": "code",
   "execution_count": 26,
   "metadata": {},
   "outputs": [],
   "source": [
    "ppo_scores = read_file(PPO_SCORES_PATH)\n",
    "ppo_rewards = read_file(PPO_REWARDS_PATH)\n",
    "ppo_lifetime = read_file(PPO_LIFETIME_PATH)"
   ]
  },
  {
   "cell_type": "code",
   "execution_count": 27,
   "metadata": {},
   "outputs": [
    {
     "name": "stdout",
     "output_type": "stream",
     "text": [
      "La media de los resultados es:  306.6666666666667\n",
      "El valor máximo de los resultados es:  1200\n",
      "El valor mínimo de los resultados es:  0\n"
     ]
    }
   ],
   "source": [
    "#Valores medios, máximos y mínimos de las puntuaciones PPO\n",
    "get_mean_max_min(ppo_scores)"
   ]
  },
  {
   "cell_type": "code",
   "execution_count": 28,
   "metadata": {},
   "outputs": [
    {
     "name": "stdout",
     "output_type": "stream",
     "text": [
      "La media de los resultados es:  1749.0\n",
      "El valor máximo de los resultados es:  3383\n",
      "El valor mínimo de los resultados es:  732\n"
     ]
    }
   ],
   "source": [
    "#Valores medios, máximos y mínimos de las recompensas PPO\n",
    "get_mean_max_min(ppo_rewards)"
   ]
  },
  {
   "cell_type": "code",
   "execution_count": 29,
   "metadata": {},
   "outputs": [
    {
     "name": "stdout",
     "output_type": "stream",
     "text": [
      "La media de los resultados es:  13.733333333333333\n",
      "El valor máximo de los resultados es:  41\n",
      "El valor mínimo de los resultados es:  3\n"
     ]
    }
   ],
   "source": [
    "#Valores medios, máximos y mínimos de los tiempos de vida PPO\n",
    "get_mean_max_min(ppo_lifetime)"
   ]
  },
  {
   "cell_type": "code",
   "execution_count": 30,
   "metadata": {},
   "outputs": [
    {
     "name": "stdout",
     "output_type": "stream",
     "text": [
      "Los datos no siguen una distribución normal.\n",
      "Los datos no siguen una distribución normal.\n"
     ]
    },
    {
     "data": {
      "text/plain": [
       "False"
      ]
     },
     "execution_count": 30,
     "metadata": {},
     "output_type": "execute_result"
    }
   ],
   "source": [
    "#Evaluación de las puntuaciones\n",
    "normal_distribution(ppo_scores, show_data=False)\n",
    "\n",
    "#Evaluación de las recompensas obtenidas\n",
    "normal_distribution(ppo_rewards, show_data=False)"
   ]
  },
  {
   "cell_type": "code",
   "execution_count": 31,
   "metadata": {},
   "outputs": [
    {
     "name": "stdout",
     "output_type": "stream",
     "text": [
      "Los datos de entrada son los siguientes:  [15, 41, 5, 30, 3, 12, 36, 3, 7, 5, 5, 3, 33, 5, 3, 5, 21, 4, 34, 18, 3, 4, 3, 5, 5, 15, 28, 17, 34, 10]\n",
      "Datos escalados con media=0 y desviación = 1:  [-0.88010999 -0.88010999 -0.88010999 -0.88010999 -0.88010999 -0.88010999\n",
      " -0.79811216 -0.79811216 -0.71611434 -0.71611434 -0.71611434 -0.71611434\n",
      " -0.71611434 -0.71611434 -0.71611434 -0.55211869 -0.30612521 -0.14212956\n",
      "  0.10386391  0.10386391  0.26785956  0.34985739  0.59585086  1.16983564\n",
      "  1.33383129  1.57982476  1.66182259  1.66182259  1.82581824  2.23580736]\n",
      "Los datos no siguen una distribución normal.\n"
     ]
    },
    {
     "data": {
      "text/plain": [
       "False"
      ]
     },
     "execution_count": 31,
     "metadata": {},
     "output_type": "execute_result"
    },
    {
     "data": {
      "image/png": "[encoded data removed]",
      "text/plain": [
       "<Figure size 648x432 with 1 Axes>"
      ]
     },
     "metadata": {
      "needs_background": "light"
     },
     "output_type": "display_data"
    },
    {
     "data": {
      "image/png": "[encoded data removed]",
      "text/plain": [
       "<Figure size 648x432 with 1 Axes>"
      ]
     },
     "metadata": {
      "needs_background": "light"
     },
     "output_type": "display_data"
    }
   ],
   "source": [
    "#Evaluación del tiempo de vida\n",
    "normal_distribution(ppo_lifetime)"
   ]
  },
  {
   "cell_type": "markdown",
   "metadata": {},
   "source": [
    "### Ahora, se evaluará conjuntamente los datos para realizar una comparación general entre ellos.\n"
   ]
  },
  {
   "cell_type": "markdown",
   "metadata": {},
   "source": [
    "#### En primer lugar, evaluamos las puntuaciones obtenidas de los tres algoritmos:"
   ]
  },
  {
   "cell_type": "code",
   "execution_count": 32,
   "metadata": {},
   "outputs": [
    {
     "name": "stdout",
     "output_type": "stream",
     "text": [
      "Los datos no siguen una distribución normal.\n",
      "Los datos no siguen una distribución normal.\n",
      "No hay diferencias significantes entre ambas poblaciones (según los datos de muestra). p-value: 0.5526555267378948\n"
     ]
    }
   ],
   "source": [
    "data_test(dqn_scores, ddqn_scores, False)"
   ]
  },
  {
   "cell_type": "code",
   "execution_count": 33,
   "metadata": {},
   "outputs": [
    {
     "name": "stdout",
     "output_type": "stream",
     "text": [
      "Los datos no siguen una distribución normal.\n",
      "Los datos no siguen una distribución normal.\n",
      "No hay diferencias significantes entre ambas poblaciones (según los datos de muestra). p-value: 0.34546924984710026\n"
     ]
    }
   ],
   "source": [
    "data_test(dqn_scores, ppo_scores, False)"
   ]
  },
  {
   "cell_type": "code",
   "execution_count": 34,
   "metadata": {},
   "outputs": [
    {
     "name": "stdout",
     "output_type": "stream",
     "text": [
      "Los datos no siguen una distribución normal.\n",
      "Los datos no siguen una distribución normal.\n",
      "No hay diferencias significantes entre ambas poblaciones (según los datos de muestra). p-value: 0.5514024592011835\n"
     ]
    }
   ],
   "source": [
    "data_test(ddqn_scores, ppo_scores, False)"
   ]
  },
  {
   "cell_type": "markdown",
   "metadata": {},
   "source": [
    "#### Ahora se evaluarán las recompensas obtenidas"
   ]
  },
  {
   "cell_type": "code",
   "execution_count": 35,
   "metadata": {},
   "outputs": [
    {
     "name": "stdout",
     "output_type": "stream",
     "text": [
      "Los datos no siguen una distribución normal.\n",
      "Los datos no siguen una distribución normal.\n",
      "No hay diferencias significantes entre ambas poblaciones (según los datos de muestra). p-value: 0.3515968196160931\n"
     ]
    }
   ],
   "source": [
    "data_test(dqn_rewards, ddqn_rewards, False)"
   ]
  },
  {
   "cell_type": "code",
   "execution_count": 36,
   "metadata": {},
   "outputs": [
    {
     "name": "stdout",
     "output_type": "stream",
     "text": [
      "Los datos no siguen una distribución normal.\n",
      "Los datos no siguen una distribución normal.\n",
      "Existen diferencias significativas en los datos de ambas poblaciones. p-value: 1.6938476898411248e-09\n"
     ]
    }
   ],
   "source": [
    "data_test(dqn_rewards, ppo_rewards, False)"
   ]
  },
  {
   "cell_type": "code",
   "execution_count": 37,
   "metadata": {},
   "outputs": [
    {
     "name": "stdout",
     "output_type": "stream",
     "text": [
      "Los datos no siguen una distribución normal.\n",
      "Los datos no siguen una distribución normal.\n",
      "Existen diferencias significativas en los datos de ambas poblaciones. p-value: 4.1763186730820774e-09\n"
     ]
    }
   ],
   "source": [
    "data_test(ddqn_rewards, ppo_rewards, False)"
   ]
  },
  {
   "cell_type": "markdown",
   "metadata": {},
   "source": [
    "#### Ahora se evalúa el tiempo de vida vivo"
   ]
  },
  {
   "cell_type": "code",
   "execution_count": 38,
   "metadata": {},
   "outputs": [
    {
     "name": "stdout",
     "output_type": "stream",
     "text": [
      "Los datos no siguen una distribución normal.\n",
      "Los datos no siguen una distribución normal.\n",
      "No hay diferencias significantes entre ambas poblaciones (según los datos de muestra). p-value: 0.7497353660825219\n"
     ]
    }
   ],
   "source": [
    "data_test(dqn_lifetime, ddqn_lifetime, False)"
   ]
  },
  {
   "cell_type": "code",
   "execution_count": 39,
   "metadata": {},
   "outputs": [
    {
     "name": "stdout",
     "output_type": "stream",
     "text": [
      "Los datos no siguen una distribución normal.\n",
      "Los datos no siguen una distribución normal.\n",
      "Existen diferencias significativas en los datos de ambas poblaciones. p-value: 0.0006135673617723695\n"
     ]
    }
   ],
   "source": [
    "data_test(dqn_lifetime, ppo_lifetime, False)"
   ]
  },
  {
   "cell_type": "code",
   "execution_count": 40,
   "metadata": {},
   "outputs": [
    {
     "name": "stdout",
     "output_type": "stream",
     "text": [
      "Los datos no siguen una distribución normal.\n",
      "Los datos no siguen una distribución normal.\n",
      "Existen diferencias significativas en los datos de ambas poblaciones. p-value: 5.0844541777725706e-05\n"
     ]
    }
   ],
   "source": [
    "data_test(ddqn_lifetime, ppo_lifetime, False)"
   ]
  }
 ],
 "metadata": {
  "kernelspec": {
   "display_name": "Python 3.7.11 ('entornoTFGgpu')",
   "language": "python",
   "name": "python3"
  },
  "language_info": {
   "codemirror_mode": {
    "name": "ipython",
    "version": 3
   },
   "file_extension": ".py",
   "mimetype": "text/x-python",
   "name": "python",
   "nbconvert_exporter": "python",
   "pygments_lexer": "ipython3",
   "version": "3.7.11"
  },
  "orig_nbformat": 4,
  "vscode": {
   "interpreter": {
    "hash": "76c345bf07b92f4d0e2923a4c7fb730f0fc79469be65c901934659d18b2a6a5a"
   }
  }
 },
 "nbformat": 4,
 "nbformat_minor": 2
}
