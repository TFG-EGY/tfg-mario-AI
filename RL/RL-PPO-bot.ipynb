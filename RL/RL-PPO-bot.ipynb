{
 "cells": [
  {
   "cell_type": "code",
   "execution_count": null,
   "id": "f86d16fe",
   "metadata": {},
   "outputs": [],
   "source": [
    "import gym_super_mario_bros\n",
    "from nes_py.wrappers import JoypadSpace\n",
    "from gym_super_mario_bros.actions import SIMPLE_MOVEMENT #Importing simple controls"
   ]
  },
  {
   "cell_type": "markdown",
   "id": "5a031dfe",
   "metadata": {},
   "source": [
    "## Preprocess Environment\n"
   ]
  },
  {
   "cell_type": "code",
   "execution_count": null,
   "id": "5cb0f9a5",
   "metadata": {},
   "outputs": [],
   "source": [
    "from gym.wrappers import GrayScaleObservation #GrayScale convert the color frames to gray\n",
    "from stable_baselines3.common.vec_env import VecFrameStack, DummyVecEnv #Import Vectorization Wrappers\n",
    "from matplotlib import pyplot as plt #Matplotlib to show the impact of frames stacking\n",
    "import datetime"
   ]
  },
  {
   "cell_type": "code",
   "execution_count": null,
   "id": "81b6ffd7",
   "metadata": {},
   "outputs": [],
   "source": [
    "#1. Create the base environment\n",
    "env = gym_super_mario_bros.make('SuperMarioBros-v0')\n",
    "#2. Simplify the cotnrols\n",
    "env = JoypadSpace(env, SIMPLE_MOVEMENT)\n",
    "#3. Transform the RGB frames to GrayScale\n",
    "env = GrayScaleObservation(env, keep_dim=True)\n",
    "#4 Vectorize the environment\n",
    "env = DummyVecEnv([lambda: env]) #Parameter: A list of functions that will create the environments \n",
    "                                 #(each callable returns a Gym.Env instance when called)\n",
    "#5 Frame stacking wrapper for vectorized environment\n",
    "env = VecFrameStack(env, 4, channels_order='last') #2º parameter: number of frames to stack"
   ]
  },
  {
   "cell_type": "code",
   "execution_count": null,
   "id": "8402d4a7",
   "metadata": {},
   "outputs": [],
   "source": [
    "state = env.reset()"
   ]
  },
  {
   "cell_type": "code",
   "execution_count": null,
   "id": "b273983b",
   "metadata": {},
   "outputs": [],
   "source": [
    "print(state.shape)\n",
    "a = 240*256*1\n",
    "b = 240*256*3\n",
    "print(\"If we don't use Gray Scale, we'd have to process %d frames, but we will only process %d frames\" % (b, a))"
   ]
  },
  {
   "cell_type": "code",
   "execution_count": null,
   "id": "48ae6a27",
   "metadata": {},
   "outputs": [],
   "source": [
    "plt.imshow(state[0])"
   ]
  },
  {
   "cell_type": "markdown",
   "id": "f5618a2c",
   "metadata": {},
   "source": [
    "## Train the AI model"
   ]
  },
  {
   "cell_type": "code",
   "execution_count": null,
   "id": "437c27a2",
   "metadata": {},
   "outputs": [],
   "source": [
    "# Import os for file path management\n",
    "import os \n",
    "# Import PPO for algos\n",
    "from stable_baselines3 import PPO\n",
    "# Import Base Callback for saving models\n",
    "from stable_baselines3.common.callbacks import BaseCallback"
   ]
  },
  {
   "cell_type": "code",
   "execution_count": null,
   "id": "e7c698a2",
   "metadata": {},
   "outputs": [],
   "source": [
    "class TrainAndLoggingCallback(BaseCallback):\n",
    "\n",
    "    def __init__(self, check_freq, save_path, verbose=1):\n",
    "        super(TrainAndLoggingCallback, self).__init__(verbose)\n",
    "        self.check_freq = check_freq\n",
    "        self.save_path = save_path\n",
    "\n",
    "    def _init_callback(self):\n",
    "        if self.save_path is not None:\n",
    "            os.makedirs(self.save_path, exist_ok=True)\n",
    "\n",
    "    def _on_step(self):\n",
    "        if self.n_calls % self.check_freq == 0:\n",
    "            model_path = os.path.join(self.save_path, 'best_model_{}'.format(self.n_calls))\n",
    "            self.model.save(model_path)\n",
    "\n",
    "        return True"
   ]
  },
  {
   "cell_type": "code",
   "execution_count": null,
   "id": "8f4cd4d7",
   "metadata": {},
   "outputs": [],
   "source": [
    "#Setup where to save the models\n",
    "CHECKPOINT_DIR = './train'\n",
    "LOG_DIR = './logs'"
   ]
  },
  {
   "cell_type": "code",
   "execution_count": null,
   "id": "f0a125bd",
   "metadata": {},
   "outputs": [],
   "source": [
    "#Setup model saving callback\n",
    "callback = TrainAndLoggingCallback(check_freq=1000, save_path=CHECKPOINT_DIR)"
   ]
  },
  {
   "cell_type": "code",
   "execution_count": null,
   "id": "e43981dc",
   "metadata": {},
   "outputs": [],
   "source": [
    "model = PPO('CnnPolicy', env, verbose=1, tensorboard_log=LOG_DIR, learning_rate=1e-4, n_steps = 512)"
   ]
  },
  {
   "cell_type": "code",
   "execution_count": null,
   "id": "60213f30",
   "metadata": {},
   "outputs": [],
   "source": [
    "print(\">>>Training starts at \", datetime.datetime.now())\n",
    "model.learn(total_timesteps=1000000, callback=callback)\n",
    "print(\">>>Training ends at \", datetime.datetime.now())\n"
   ]
  },
  {
   "cell_type": "code",
   "execution_count": null,
   "id": "1cb603bf",
   "metadata": {},
   "outputs": [],
   "source": [
    "print(\">>>Training ends at \", datetime.datetime.now())"
   ]
  },
  {
   "cell_type": "code",
   "execution_count": null,
   "id": "55722b98",
   "metadata": {},
   "outputs": [],
   "source": [
    "model = PPO.load('./train/best_model_2000')\n"
   ]
  },
  {
   "cell_type": "code",
   "execution_count": null,
   "id": "b8a2c2f7",
   "metadata": {},
   "outputs": [],
   "source": [
    "state = env.reset()"
   ]
  },
  {
   "cell_type": "code",
   "execution_count": null,
   "id": "9bb69120",
   "metadata": {},
   "outputs": [],
   "source": [
    "# Start the game \n",
    "state = env.reset()\n",
    "# Loop through the game\n",
    "while True: \n",
    "    \n",
    "    action, _ = model.predict(state)\n",
    "    state, reward, done, info = env.step(action)\n",
    "    env.render()"
   ]
  },
  {
   "cell_type": "code",
   "execution_count": null,
   "id": "d8d7e4cb",
   "metadata": {},
   "outputs": [],
   "source": []
  }
 ],
 "metadata": {
  "kernelspec": {
   "display_name": "Python 3 (ipykernel)",
   "language": "python",
   "name": "python3"
  },
  "language_info": {
   "codemirror_mode": {
    "name": "ipython",
    "version": 3
   },
   "file_extension": ".py",
   "mimetype": "text/x-python",
   "name": "python",
   "nbconvert_exporter": "python",
   "pygments_lexer": "ipython3",
   "version": "3.7.11"
  }
 },
 "nbformat": 4,
 "nbformat_minor": 5
}
