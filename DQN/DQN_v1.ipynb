{
 "cells": [
  {
   "cell_type": "code",
   "execution_count": 1,
   "id": "56587942",
   "metadata": {},
   "outputs": [],
   "source": [
    "import warnings\n",
    "warnings.filterwarnings('ignore')\n",
    "import gym_super_mario_bros\n",
    "from nes_py.wrappers import JoypadSpace\n",
    "from gym_super_mario_bros.actions import SIMPLE_MOVEMENT #Importing simple controls"
   ]
  },
  {
   "cell_type": "code",
   "execution_count": 2,
   "id": "d43cf04c",
   "metadata": {},
   "outputs": [],
   "source": [
    "#Creación del entorno\n",
    "env = gym_super_mario_bros.make('SuperMarioBros-v0')"
   ]
  },
  {
   "cell_type": "code",
   "execution_count": 3,
   "id": "7c93d25b",
   "metadata": {},
   "outputs": [
    {
     "name": "stdout",
     "output_type": "stream",
     "text": [
      "['NOOP']\n",
      "(240, 256, 3)\n"
     ]
    }
   ],
   "source": [
    "#Random action\n",
    "acts = env.get_action_meanings()\n",
    "print(acts)\n",
    "\n",
    "#Input space shape\n",
    "shp = env.observation_space.shape\n",
    "print(shp)\n"
   ]
  },
  {
   "cell_type": "markdown",
   "id": "87e4eb36",
   "metadata": {},
   "source": [
    "### Preparamos los wrappers para el preprocesamiento del entorno"
   ]
  },
  {
   "cell_type": "code",
   "execution_count": 4,
   "id": "834e70b6",
   "metadata": {},
   "outputs": [],
   "source": [
    "import numpy as np\n",
    "import gym\n",
    "import collections "
   ]
  },
  {
   "cell_type": "code",
   "execution_count": 5,
   "id": "673fdc07",
   "metadata": {},
   "outputs": [],
   "source": [
    "#Wrappers de gym para preprocesar el entorno\n",
    "#Taken from: https://console.paperspace.com/ml-showcase/notebook/rcrd0w769nip72j?file=mario_notebook.ipynb\n",
    "\n",
    "class MaxAndSkipEnv(gym.Wrapper):\n",
    "    def __init__(self, env=None, skip=4):\n",
    "        \"\"\"Return only every `skip`-th frame\"\"\"\n",
    "        super(MaxAndSkipEnv, self).__init__(env)\n",
    "        # most recent raw observations (for max pooling across time steps)\n",
    "        self._obs_buffer = collections.deque(maxlen=2)\n",
    "        self._skip = skip\n",
    "\n",
    "    def step(self, action):\n",
    "        total_reward = 0.0\n",
    "        done = None\n",
    "        for _ in range(self._skip):\n",
    "            obs, reward, done, info = self.env.step(action)\n",
    "            self._obs_buffer.append(obs)\n",
    "            total_reward += reward\n",
    "            if done:\n",
    "                break\n",
    "        max_frame = np.max(np.stack(self._obs_buffer), axis=0)\n",
    "        return max_frame, total_reward, done, info\n",
    "\n",
    "    def reset(self):\n",
    "        \"\"\"Clear past frame buffer and init to first obs\"\"\"\n",
    "        self._obs_buffer.clear()\n",
    "        obs = self.env.reset()\n",
    "        self._obs_buffer.append(obs)\n",
    "        return obs\n",
    "\n",
    "\n",
    "class ImageToPyTorch(gym.ObservationWrapper):\n",
    "    def __init__(self, env):\n",
    "        super(ImageToPyTorch, self).__init__(env)\n",
    "        old_shape = self.observation_space.shape\n",
    "        self.observation_space = gym.spaces.Box(low=0.0, high=1.0, shape=(old_shape[-1], old_shape[0], old_shape[1]),\n",
    "                                                dtype=np.float32)\n",
    "\n",
    "    def observation(self, observation):\n",
    "        return np.moveaxis(observation, 2, 0)\n",
    "\n",
    "\n",
    "class ScaledFloatFrame(gym.ObservationWrapper):\n",
    "    \"\"\"Normalize pixel values in frame --> 0 to 1\"\"\"\n",
    "    def observation(self, obs):\n",
    "        return np.array(obs).astype(np.float32) / 255.0\n",
    "\n",
    "\n",
    "class BufferWrapper(gym.ObservationWrapper):\n",
    "    def __init__(self, env, n_steps, dtype=np.float32):\n",
    "        super(BufferWrapper, self).__init__(env)\n",
    "        self.dtype = dtype\n",
    "        old_space = env.observation_space\n",
    "        self.observation_space = gym.spaces.Box(old_space.low.repeat(n_steps, axis=0),\n",
    "                                                old_space.high.repeat(n_steps, axis=0), dtype=dtype)\n",
    "\n",
    "    def reset(self):\n",
    "        self.buffer = np.zeros_like(self.observation_space.low, dtype=self.dtype)\n",
    "        return self.observation(self.env.reset())\n",
    "\n",
    "    def observation(self, observation):\n",
    "        self.buffer[:-1] = self.buffer[1:]\n",
    "        self.buffer[-1] = observation\n",
    "        return self.buffer\n"
   ]
  },
  {
   "cell_type": "markdown",
   "id": "40a5ddb0",
   "metadata": {},
   "source": [
    "### Preprocesamiento del entorno"
   ]
  },
  {
   "cell_type": "code",
   "execution_count": 6,
   "id": "8db83317",
   "metadata": {},
   "outputs": [],
   "source": [
    "from gym.wrappers import ResizeObservation, GrayScaleObservation"
   ]
  },
  {
   "cell_type": "code",
   "execution_count": 7,
   "id": "688f752d",
   "metadata": {},
   "outputs": [],
   "source": [
    "env = gym_super_mario_bros.make('SuperMarioBros-v0')\n",
    "\n",
    "def wrap_env(env):\n",
    "    env = MaxAndSkipEnv(env)\n",
    "    env = GrayScaleObservation(env, keep_dim=True) #Conversion a escala de grises\n",
    "    env = ResizeObservation(env, 84) #Ajuste del tamaño de la imagen\n",
    "    env = ImageToPyTorch(env) #Conversión a tensores de PyTorch\n",
    "    env = BufferWrapper(env, 4) #Buffer de 4 frames\n",
    "    env = ScaledFloatFrame(env) #Reescalado del frame de 0 a 1\n",
    "    return JoypadSpace(env, SIMPLE_MOVEMENT) #Addición de controles simples"
   ]
  },
  {
   "cell_type": "code",
   "execution_count": 8,
   "id": "6934d35c",
   "metadata": {},
   "outputs": [
    {
     "name": "stdout",
     "output_type": "stream",
     "text": [
      "['NOOP', 'right', 'right A', 'right B', 'right A B', 'A', 'left']\n",
      "(4, 84, 84)\n"
     ]
    }
   ],
   "source": [
    "env = wrap_env(env)\n",
    "\n",
    "#Acciones posibles\n",
    "acts = env.get_action_meanings()\n",
    "print(acts)\n",
    "\n",
    "#Tamaño del espacio de observación\n",
    "shp = env.observation_space.shape\n",
    "print(shp)"
   ]
  },
  {
   "cell_type": "code",
   "execution_count": 9,
   "id": "892f2bbb",
   "metadata": {},
   "outputs": [
    {
     "name": "stdout",
     "output_type": "stream",
     "text": [
      "Actions availables in the game:  7\n"
     ]
    }
   ],
   "source": [
    "print('Actions availables in the game: ', env.action_space.n)"
   ]
  },
  {
   "cell_type": "markdown",
   "id": "b13cec45",
   "metadata": {},
   "source": [
    "## Neuronal Network Architecture"
   ]
  },
  {
   "cell_type": "code",
   "execution_count": 10,
   "id": "d50c59bd",
   "metadata": {},
   "outputs": [],
   "source": [
    "import torch\n",
    "import torch.nn as nn\n",
    "from torchsummary import summary"
   ]
  },
  {
   "cell_type": "code",
   "execution_count": 11,
   "id": "baf5cf69",
   "metadata": {},
   "outputs": [],
   "source": [
    "#Definción de la arquitectura de la red neuronal (aproximación de deepmind)\n",
    "def make_DQN(input_shape, n_actions, summary_=True):\n",
    "    net  = nn.Sequential(\n",
    "        nn.Conv2d(input_shape[0], 32, kernel_size=8, stride=4),\n",
    "        nn.ReLU(),\n",
    "        nn.Conv2d(32, 64, kernel_size=4, stride=2),\n",
    "        nn.ReLU(),\n",
    "        nn.Conv2d(64, 64, kernel_size=3, stride=1),\n",
    "        nn.ReLU(),\n",
    "        nn.Flatten(),\n",
    "        nn.Linear(3136, 512),\n",
    "        nn.ReLU(),\n",
    "        nn.Linear(512, n_actions)\n",
    "        )\n",
    "    net.to(torch.device(\"cuda\"))\n",
    "    if summary_:\n",
    "        summary(net, env.observation_space.shape) #Printing the network\n",
    "    return net"
   ]
  },
  {
   "cell_type": "code",
   "execution_count": 12,
   "id": "2deda4d7",
   "metadata": {},
   "outputs": [
    {
     "name": "stdout",
     "output_type": "stream",
     "text": [
      "----------------------------------------------------------------\n",
      "        Layer (type)               Output Shape         Param #\n",
      "================================================================\n",
      "            Conv2d-1           [-1, 32, 20, 20]           8,224\n",
      "              ReLU-2           [-1, 32, 20, 20]               0\n",
      "            Conv2d-3             [-1, 64, 9, 9]          32,832\n",
      "              ReLU-4             [-1, 64, 9, 9]               0\n",
      "            Conv2d-5             [-1, 64, 7, 7]          36,928\n",
      "              ReLU-6             [-1, 64, 7, 7]               0\n",
      "           Flatten-7                 [-1, 3136]               0\n",
      "            Linear-8                  [-1, 512]       1,606,144\n",
      "              ReLU-9                  [-1, 512]               0\n",
      "           Linear-10                    [-1, 7]           3,591\n",
      "================================================================\n",
      "Total params: 1,687,719\n",
      "Trainable params: 1,687,719\n",
      "Non-trainable params: 0\n",
      "----------------------------------------------------------------\n",
      "Input size (MB): 0.11\n",
      "Forward/backward pass size (MB): 0.35\n",
      "Params size (MB): 6.44\n",
      "Estimated Total Size (MB): 6.90\n",
      "----------------------------------------------------------------\n"
     ]
    }
   ],
   "source": [
    "net = make_DQN(shp, env.action_space.n)"
   ]
  },
  {
   "cell_type": "markdown",
   "id": "9c2afc76",
   "metadata": {},
   "source": [
    "## Experience Replay and Target Network"
   ]
  },
  {
   "cell_type": "markdown",
   "id": "9d2264b9",
   "metadata": {},
   "source": [
    "### Experience replay"
   ]
  },
  {
   "cell_type": "code",
   "execution_count": 12,
   "id": "6bcf878a",
   "metadata": {},
   "outputs": [],
   "source": [
    "import numpy as np\n",
    "import collections\n",
    "from collections import deque"
   ]
  },
  {
   "cell_type": "code",
   "execution_count": 13,
   "id": "fd224e86",
   "metadata": {},
   "outputs": [],
   "source": [
    "#Taken from: https://github.com/jorditorresBCN/aprendizaje-por-refuerzo/blob/main/Capitulo09.ipynb\n",
    "Experience = collections.namedtuple('Experience', field_names=['state', 'action', 'reward', 'done', 'new_state'])\n",
    "\n",
    "class ExperienceReplay:\n",
    "    def __init__(self, capacity):\n",
    "        self.buffer = deque(maxlen=capacity)\n",
    "\n",
    "    def __len__(self):\n",
    "        return len(self.buffer)\n",
    "\n",
    "    def append(self, experience):\n",
    "        self.buffer.append(experience)\n",
    "\n",
    "    def sample(self, BATCH_SIZE):\n",
    "        indices = np.random.choice(len(self.buffer), BATCH_SIZE, replace=False)\n",
    "        states, actions, rewards, dones, next_states = zip(*[self.buffer[idx] for idx in indices])\n",
    "        return np.array(states), np.array(actions), np.array(rewards, dtype=np.float32), \\\n",
    "               np.array(dones, dtype=np.uint8), np.array(next_states)"
   ]
  },
  {
   "cell_type": "markdown",
   "id": "8968c5f0",
   "metadata": {},
   "source": [
    "Target Network es una copia de la red neuronal principal para calcular el valor Q(s', a') en la ecuación de Bellman."
   ]
  },
  {
   "cell_type": "markdown",
   "id": "b98bcdc0",
   "metadata": {},
   "source": [
    "## Deep Q-Learning algorithm"
   ]
  },
  {
   "cell_type": "markdown",
   "id": "94759225",
   "metadata": {},
   "source": [
    "Hiperparametros"
   ]
  },
  {
   "cell_type": "code",
   "execution_count": null,
   "id": "c001d1ce",
   "metadata": {},
   "outputs": [],
   "source": [
    "#Hyperparamenters for SuperMarioBros-v0\n",
    "\n",
    "MEAN_REWARD_BOUND = 2100 #Recompensa media para considerar el entrenamiento como exitoso.\n",
    "NUMBER_OF_REWARDS_TO_AVERAGE = 10\n",
    "\n",
    "GAMMA = 0.99\n",
    "BATCH_SIZE = 32\n",
    "LEARNING_RATE = 1e-4\n",
    "EXPERIENCE_REPLAY_SIZE = 10000\n",
    "SYNC_TARGET_NETWORK = 1000 #La red neuronal secundaria es actualizada cada 1000 steps\n",
    "\n",
    "EPS_START = 1.0\n",
    "EPS_DECAY = 0.9995\n",
    "EPS_MIN = 0.02"
   ]
  },
  {
   "cell_type": "code",
   "execution_count": null,
   "id": "e2916802",
   "metadata": {},
   "outputs": [],
   "source": [
    "#Hyperparamenters for SuperMarioBros-v1: DeepMind aproximation\n",
    "MEAN_REWARD_BOUND = 2100 #Recompensa media para considerar el entrenamiento como exitoso.\n",
    "NUMBER_OF_REWARDS_TO_AVERAGE = 15\n",
    "\n",
    "GAMMA = 0.99\n",
    "BATCH_SIZE = 32\n",
    "LEARNING_RATE = 0.00025\n",
    "EXPERIENCE_REPLAY_SIZE = 100000\n",
    "SYNC_TARGET_NETWORK = 10000 #Actualización de la red neuronal secundaria cada 10000 steps\n",
    "\n",
    "EPS_START = 1.0\n",
    "EPS_DECAY = 0.1\n",
    "EPS_MIN = 0.01"
   ]
  },
  {
   "cell_type": "code",
   "execution_count": null,
   "id": "06274c53",
   "metadata": {},
   "outputs": [],
   "source": [
    "#Hyperparamenters for SuperMarioBros-v2\n",
    "MEAN_REWARD_BOUND = 2500 #Recompensa media para considerar el entrenamiento como exitoso.\n",
    "NUMBER_OF_REWARDS_TO_AVERAGE = 15\n",
    "\n",
    "GAMMA = 0.99\n",
    "BATCH_SIZE = 32\n",
    "LEARNING_RATE = 0.00001\n",
    "EXPERIENCE_REPLAY_SIZE = 100000 \n",
    "SYNC_TARGET_NETWORK = 10000 #Target network is updated every 10000 steps\n",
    "\n",
    "EPS_START = 1.0\n",
    "EPS_DECAY = 0.1\n",
    "EPS_MIN = 0.01"
   ]
  },
  {
   "cell_type": "code",
   "execution_count": null,
   "id": "cf741b58",
   "metadata": {},
   "outputs": [],
   "source": [
    "#Hyperparamenters for SuperMarioBros-v3\n",
    "MEAN_REWARD_BOUND = 3500 #Recompensa media para considerar el entrenamiento como exitoso.\n",
    "NUMBER_OF_REWARDS_TO_AVERAGE = 15\n",
    "\n",
    "GAMMA = 0.99\n",
    "BATCH_SIZE = 32\n",
    "LEARNING_RATE = 0.00001\n",
    "EXPERIENCE_REPLAY_SIZE = 100000 \n",
    "SYNC_TARGET_NETWORK = 10000 \n",
    "\n",
    "EPS_START = 1.0\n",
    "EPS_DECAY = 0.1\n",
    "EPS_MIN = 0.01"
   ]
  },
  {
   "cell_type": "markdown",
   "id": "da9cf7bf",
   "metadata": {},
   "source": [
    "2 fases principales:\n",
    "- Cuando se obtienen las muestras de la interacción del agente con el entorno al realizar acciones y estas se almacenan en forma de tuplas en el búfer de memoria D.\n",
    "- Aquella en la que se selecciona aleatoriamente un pequeño lote de tuplas desde D y se entrena la red neuronal con dicho lote de datos.\n",
    "\n",
    "No se podrá pasar a la fase de aprendizaje de inmediato, se deberá esperar hasta tener suficientes tuplas en el búfer de memoria D. En el pseudocódigo, no se borra la memoria D después de cada episodio porque nos permite recordar y construir lotes de experiencias entre episodios.\n"
   ]
  },
  {
   "cell_type": "markdown",
   "id": "720b3a71",
   "metadata": {},
   "source": [
    "    Agent"
   ]
  },
  {
   "cell_type": "code",
   "execution_count": 15,
   "id": "2ec38fc3",
   "metadata": {},
   "outputs": [],
   "source": [
    "class Agent:\n",
    "    def __init__(self, env, exp_replay_buffer):\n",
    "        self.env = env\n",
    "        self.exp_replay_buffer = exp_replay_buffer\n",
    "        self._reset()\n",
    "    \n",
    "    def _reset(self):\n",
    "        self.current_state = self.env.reset()\n",
    "        self.total_reward = 0.0\n",
    "    \n",
    "    def step(self, net, epsilon=0.0, device='cuda'):\n",
    "        done_reward = None\n",
    "        if np.random.random() < epsilon:\n",
    "            action = self.env.action_space.sample()\n",
    "        else:\n",
    "            state_ = np.array([self.current_state])\n",
    "            state = torch.tensor(state_).to(device)\n",
    "            q_vals = net(state)\n",
    "            _, act_ = torch.max(q_vals, dim=1)\n",
    "            action = int(act_.item())\n",
    "        #print(action)\n",
    "        new_state, reward, is_done, _ = self.env.step(action)\n",
    "        self.total_reward += reward\n",
    "        exp = Experience(self.current_state, action, reward, is_done, new_state)\n",
    "        self.exp_replay_buffer.append(exp)\n",
    "        self.current_state = new_state\n",
    "        \n",
    "        if is_done:\n",
    "            done_reward = self.total_reward\n",
    "            self._reset()\n",
    "        return done_reward\n"
   ]
  },
  {
   "cell_type": "markdown",
   "id": "b5cfaf13",
   "metadata": {},
   "source": [
    "## Entrenamiento y ejecución"
   ]
  },
  {
   "cell_type": "code",
   "execution_count": null,
   "id": "9316fb37",
   "metadata": {},
   "outputs": [],
   "source": [
    "from torch.utils.tensorboard import SummaryWriter\n",
    "%load_ext tensorboard"
   ]
  },
  {
   "cell_type": "code",
   "execution_count": null,
   "id": "c88b747d",
   "metadata": {},
   "outputs": [],
   "source": [
    "env = gym_super_mario_bros.make('SuperMarioBros-v0')\n",
    "env = wrap_env(env)\n",
    "net = make_DQN(shp, env.action_space.n)\n",
    "target_net = make_DQN(shp, env.action_space.n, False)\n",
    "\n",
    "buffer = ExperienceReplay(EXPERIENCE_REPLAY_SIZE)\n",
    "agent  = Agent(env, buffer)\n",
    "\n",
    "epsilon = EPS_START\n",
    "total_rewards = []\n",
    "frame_number = 0\n",
    "\n",
    "#Optimizer we will use to update the weights of the neural network\n",
    "optimizer = torch.optim.Adam(net.parameters(), lr=LEARNING_RATE)\n",
    "\n",
    "writer = SummaryWriter(comment=\"-\" + 'SuperMarioBros-v0')"
   ]
  },
  {
   "cell_type": "markdown",
   "id": "f350ff9c",
   "metadata": {},
   "source": [
    "Bucle de entrenamiento"
   ]
  },
  {
   "cell_type": "code",
   "execution_count": null,
   "id": "8d969763",
   "metadata": {},
   "outputs": [],
   "source": [
    "import datetime\n",
    "print(\">>>Training starts at \",datetime.datetime.now())\n",
    "\n",
    "while True:\n",
    "        frame_number += 1\n",
    "        epsilon = max(epsilon*EPS_DECAY, EPS_MIN)\n",
    "\n",
    "        reward = agent.step(net, epsilon, device='cuda')\n",
    "        if reward is not None:\n",
    "            total_rewards.append(reward)\n",
    "\n",
    "            mean_reward = np.mean(total_rewards[-NUMBER_OF_REWARDS_TO_AVERAGE:])\n",
    "            \n",
    "            print(f\"Frame:{frame_number} | Total games:{len(total_rewards)} | Mean reward: {mean_reward:.3f}  (epsilon used ={epsilon:.2f})\")\n",
    "            \n",
    "            writer.add_scalar(\"epsilon\", epsilon, frame_number)\n",
    "            writer.add_scalar(\"reward_100\", mean_reward, frame_number)\n",
    "            writer.add_scalar(\"reward\", reward, frame_number)\n",
    "\n",
    "\n",
    "            if mean_reward > MEAN_REWARD_BOUND:\n",
    "                print(f\"SOLVED in {frame_number} frames and {len(total_rewards)} games\")\n",
    "                break\n",
    "\n",
    "        if len(buffer) < EXPERIENCE_REPLAY_SIZE:\n",
    "            continue\n",
    "\n",
    "        batch = buffer.sample(BATCH_SIZE)\n",
    "        states_, actions_, rewards_, dones_, next_states_ = batch\n",
    "\n",
    "        states = torch.tensor(states_).to('cuda')\n",
    "        next_states = torch.tensor(next_states_).to('cuda')\n",
    "        actions = torch.tensor(actions_).to('cuda')\n",
    "        actions2 = actions.type(torch.int64)\n",
    "        rewards = torch.tensor(rewards_).to('cuda')\n",
    "        dones = torch.ByteTensor(dones_).to('cuda')\n",
    "\n",
    "        Q_values = net(states).gather(1, actions2.unsqueeze(-1)).squeeze(-1)\n",
    "        \n",
    "        next_state_values = target_net(next_states).max(1)[0]\n",
    "        next_state_values[dones] = 0.0\n",
    "        next_state_values = next_state_values.detach()\n",
    "        \n",
    "        expected_Q_values = next_state_values * GAMMA + rewards\n",
    "        loss = nn.MSELoss()(Q_values, expected_Q_values)\n",
    "\n",
    "        optimizer.zero_grad()\n",
    "        loss.backward()\n",
    "        optimizer.step()\n",
    "\n",
    "        if frame_number % SYNC_TARGET_NETWORK == 0:\n",
    "            target_net.load_state_dict(net.state_dict())\n",
    "\n",
    "torch.save(net.state_dict(), \"SuperMarioBros-v3.dat\")\n",
    "writer.close()\n",
    "print(\">>>Training ends at \",datetime.datetime.now())"
   ]
  },
  {
   "cell_type": "markdown",
   "id": "5989211f",
   "metadata": {},
   "source": [
    "Visualización de los modelos entrenados"
   ]
  },
  {
   "cell_type": "code",
   "execution_count": 19,
   "id": "5d728cda",
   "metadata": {},
   "outputs": [],
   "source": [
    "#Taken (part) from: https://github.com/jorditorresBCN/aprendizaje-por-refuerzo/blob/main/Capitulo09.ipynb\n",
    "\n",
    "def visualize_replay(path):\n",
    "    env = wrap_env(gym_super_mario_bros.make('SuperMarioBros-v0'))\n",
    "    net = make_DQN(env.observation_space.shape, env.action_space.n, False).cpu()\n",
    "    model = path\n",
    "    net.load_state_dict(torch.load(model))\n",
    "\n",
    "    state = env.reset()\n",
    "    total_reward = 0.0\n",
    "\n",
    "    while True:\n",
    "            env.render()\n",
    "            state_ = torch.tensor(np.array([state], copy=False))\n",
    "            q_vals = net(state_).data.numpy()[0]\n",
    "            action = np.argmax(q_vals)\n",
    "            state, reward, done, _ = env.step(action)\n",
    "            total_reward += reward\n",
    "            if done:\n",
    "                break\n",
    "            \n",
    "    print(\"Total reward: %.2f\" % total_reward)\n",
    "    env.close()\n",
    "\n"
   ]
  },
  {
   "cell_type": "code",
   "execution_count": 21,
   "id": "b05b57a6",
   "metadata": {},
   "outputs": [
    {
     "name": "stdout",
     "output_type": "stream",
     "text": [
      "Total reward: 1602.00\n"
     ]
    }
   ],
   "source": [
    "path = \"./models/SuperMarioBros-v0.dat\"\n",
    "visualize_replay(path)"
   ]
  },
  {
   "cell_type": "code",
   "execution_count": 22,
   "id": "b6b939d6",
   "metadata": {},
   "outputs": [
    {
     "name": "stdout",
     "output_type": "stream",
     "text": [
      "Total reward: -92.00\n"
     ]
    }
   ],
   "source": [
    "path = \"./models/SuperMarioBros-v1.dat\"\n",
    "visualize_replay(path)"
   ]
  },
  {
   "cell_type": "code",
   "execution_count": 20,
   "id": "0ce0d0ca",
   "metadata": {},
   "outputs": [
    {
     "name": "stdout",
     "output_type": "stream",
     "text": [
      "Total reward: 2209.00\n"
     ]
    }
   ],
   "source": [
    "path = \"./models/SuperMarioBros-v2.dat\"\n",
    "visualize_replay(path)"
   ]
  }
 ],
 "metadata": {
  "interpreter": {
   "hash": "76c345bf07b92f4d0e2923a4c7fb730f0fc79469be65c901934659d18b2a6a5a"
  },
  "kernelspec": {
   "display_name": "Python 3.7.11 ('entornoTFGgpu')",
   "language": "python",
   "name": "python3"
  },
  "language_info": {
   "codemirror_mode": {
    "name": "ipython",
    "version": 3
   },
   "file_extension": ".py",
   "mimetype": "text/x-python",
   "name": "python",
   "nbconvert_exporter": "python",
   "pygments_lexer": "ipython3",
   "version": "3.7.11"
  }
 },
 "nbformat": 4,
 "nbformat_minor": 5
}
