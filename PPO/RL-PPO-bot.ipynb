{
 "cells": [
  {
   "cell_type": "code",
   "execution_count": 1,
   "id": "f86d16fe",
   "metadata": {},
   "outputs": [],
   "source": [
    "import gym_super_mario_bros\n",
    "from nes_py.wrappers import JoypadSpace\n",
    "from gym_super_mario_bros.actions import SIMPLE_MOVEMENT #Importing simple controls\n",
    "import csv"
   ]
  },
  {
   "cell_type": "markdown",
   "id": "5a031dfe",
   "metadata": {},
   "source": [
    "## Preprocess Environment\n"
   ]
  },
  {
   "cell_type": "code",
   "execution_count": 2,
   "id": "5cb0f9a5",
   "metadata": {},
   "outputs": [],
   "source": [
    "from gym.wrappers import GrayScaleObservation #GrayScale convert the color frames to gray\n",
    "from stable_baselines3.common.vec_env import VecFrameStack, DummyVecEnv #Import Vectorization Wrappers\n",
    "from matplotlib import pyplot as plt #Matplotlib to show the impact of frames stacking\n",
    "import datetime"
   ]
  },
  {
   "cell_type": "code",
   "execution_count": 3,
   "id": "81b6ffd7",
   "metadata": {},
   "outputs": [],
   "source": [
    "#1. Create the base environment\n",
    "env = gym_super_mario_bros.make('SuperMarioBros-v0')\n",
    "#2. Simplify the controls\n",
    "env = JoypadSpace(env, SIMPLE_MOVEMENT)\n",
    "#3. Transform the RGB frames to GrayScale\n",
    "env = GrayScaleObservation(env, keep_dim=True)\n",
    "#4 Vectorize the environment\n",
    "env = DummyVecEnv([lambda: env]) #Parameter: A list of functions that will create the environments \n",
    "                                 #(each callable returns a Gym.Env instance when called)\n",
    "#5 Frame stacking wrapper for vectorized environment\n",
    "env = VecFrameStack(env, 4, channels_order='last') #2º parameter: number of frames to stack"
   ]
  },
  {
   "cell_type": "code",
   "execution_count": 4,
   "id": "8402d4a7",
   "metadata": {},
   "outputs": [],
   "source": [
    "state = env.reset()"
   ]
  },
  {
   "cell_type": "code",
   "execution_count": 5,
   "id": "b273983b",
   "metadata": {},
   "outputs": [
    {
     "name": "stdout",
     "output_type": "stream",
     "text": [
      "(1, 240, 256, 4)\n",
      "If we don't use Gray Scale, we'd have to process 184320 frames, but we will only process 61440 frames\n"
     ]
    }
   ],
   "source": [
    "print(state.shape)\n",
    "a = 240*256*1\n",
    "b = 240*256*3\n",
    "print(\"If we don't use Gray Scale, we'd have to process %d frames, but we will only process %d frames\" % (b, a))"
   ]
  },
  {
   "cell_type": "code",
   "execution_count": 6,
   "id": "48ae6a27",
   "metadata": {},
   "outputs": [
    {
     "data": {
      "text/plain": [
       "<matplotlib.image.AxesImage at 0x14e8b97a548>"
      ]
     },
     "execution_count": 6,
     "metadata": {},
     "output_type": "execute_result"
    },
    {
     "data": {
      "image/png": "[encoded data removed]",
      "text/plain": [
       "<Figure size 432x288 with 1 Axes>"
      ]
     },
     "metadata": {
      "needs_background": "light"
     },
     "output_type": "display_data"
    }
   ],
   "source": [
    "plt.imshow(state[0])"
   ]
  },
  {
   "cell_type": "markdown",
   "id": "f5618a2c",
   "metadata": {},
   "source": [
    "## Train the AI model"
   ]
  },
  {
   "cell_type": "code",
   "execution_count": 7,
   "id": "437c27a2",
   "metadata": {},
   "outputs": [],
   "source": [
    "# Import os for file path management\n",
    "import os \n",
    "# Import PPO for algos\n",
    "from stable_baselines3 import PPO\n",
    "# Import Base Callback for saving models\n",
    "from stable_baselines3.common.callbacks import BaseCallback"
   ]
  },
  {
   "cell_type": "code",
   "execution_count": 8,
   "id": "e7c698a2",
   "metadata": {},
   "outputs": [],
   "source": [
    "class TrainAndLoggingCallback(BaseCallback):\n",
    "\n",
    "    def __init__(self, check_freq, save_path, verbose=1):\n",
    "        super(TrainAndLoggingCallback, self).__init__(verbose)\n",
    "        self.check_freq = check_freq\n",
    "        self.save_path = save_path\n",
    "\n",
    "    def _init_callback(self):\n",
    "        if self.save_path is not None:\n",
    "            os.makedirs(self.save_path, exist_ok=True)\n",
    "\n",
    "    def _on_step(self):\n",
    "        if self.n_calls % self.check_freq == 0:\n",
    "            model_path = os.path.join(self.save_path, 'best_model_{}'.format(self.n_calls))\n",
    "            self.model.save(model_path)\n",
    "\n",
    "        return True"
   ]
  },
  {
   "cell_type": "code",
   "execution_count": 12,
   "id": "8f4cd4d7",
   "metadata": {},
   "outputs": [],
   "source": [
    "#Setup where to save the models\n",
    "CHECKPOINT_DIR = './train'\n",
    "LOG_DIR = './logs'"
   ]
  },
  {
   "cell_type": "code",
   "execution_count": null,
   "id": "f0a125bd",
   "metadata": {},
   "outputs": [],
   "source": [
    "#Setup model saving callback\n",
    "callback = TrainAndLoggingCallback(check_freq=10000, save_path=CHECKPOINT_DIR)"
   ]
  },
  {
   "cell_type": "code",
   "execution_count": 13,
   "id": "e43981dc",
   "metadata": {},
   "outputs": [
    {
     "name": "stdout",
     "output_type": "stream",
     "text": [
      "Using cuda device\n",
      "Wrapping the env in a VecTransposeImage.\n"
     ]
    }
   ],
   "source": [
    "model = PPO('CnnPolicy', env, verbose=1, tensorboard_log=LOG_DIR, learning_rate=1e-4, n_steps = 512)"
   ]
  },
  {
   "cell_type": "code",
   "execution_count": null,
   "id": "60213f30",
   "metadata": {},
   "outputs": [],
   "source": [
    "print(\">>>Training starts at \", datetime.datetime.now())\n",
    "model.learn(total_timesteps=400000, callback=callback)\n",
    "print(\">>>Training ends at \", datetime.datetime.now())"
   ]
  },
  {
   "cell_type": "code",
   "execution_count": null,
   "id": "1cb603bf",
   "metadata": {},
   "outputs": [],
   "source": [
    "print(\">>>Training ends at \", datetime.datetime.now())"
   ]
  },
  {
   "cell_type": "code",
   "execution_count": 16,
   "id": "55722b98",
   "metadata": {},
   "outputs": [],
   "source": [
    "model = PPO.load('./train/best_model_250000')\n"
   ]
  },
  {
   "cell_type": "markdown",
   "id": "bc353168",
   "metadata": {},
   "source": [
    "## Evaluación del modelo"
   ]
  },
  {
   "cell_type": "code",
   "execution_count": 14,
   "id": "fcdcf336",
   "metadata": {},
   "outputs": [],
   "source": [
    "def run(episodes):\n",
    "    # Start the game \n",
    "    #state = env.reset()\n",
    "    # Loop through the game\n",
    "    total_rewards = []\n",
    "    total_scores = []\n",
    "    total_life_times = []\n",
    "    for n in range(episodes):\n",
    "        state = env.reset()\n",
    "        total_reward = 0\n",
    "        score = 0\n",
    "        life_time = 0\n",
    "        while True: \n",
    "            \n",
    "            action, _ = model.predict(state)\n",
    "            state, reward, done, info = env.step(action)\n",
    "            total_reward += int(reward)\n",
    "            env.render()\n",
    "            \n",
    "            if done:            \n",
    "                score = info[0][\"score\"]\n",
    "                life_time = 400 - info[0][\"time\"]\n",
    "                break\n",
    "        \n",
    "        total_rewards.append(total_reward)\n",
    "        total_scores.append(score)\n",
    "        total_life_times.append(life_time)\n",
    "    \n",
    "    with open('total_rewards.csv', 'w') as f1:\n",
    "        writer = csv.writer(f1)\n",
    "        writer.writerow(total_rewards)\n",
    "    \n",
    "    with open('total_scores.csv', 'w') as f2:\n",
    "        writer = csv.writer(f2)\n",
    "        writer.writerow(total_scores)\n",
    "    \n",
    "    with open('total_life_times.csv', 'w') as f3:\n",
    "        writer = csv.writer(f3)\n",
    "        writer.writerow(total_life_times)\n",
    "            \n",
    "\n",
    "    print(\"List of total rewards: \", total_rewards)\n",
    "    print(\"List of total score: \", total_scores)\n",
    "    print(\"List of total times being alive: \", total_life_times)"
   ]
  },
  {
   "cell_type": "markdown",
   "id": "71e9b58c",
   "metadata": {},
   "source": [
    "### Llamada a la función de evaluación del modelo\n",
    "En una primera fase de experimentación, se evaluará la calidad del modelo en 30 ejecuciones del mismo"
   ]
  },
  {
   "cell_type": "markdown",
   "id": "f35b4a1d",
   "metadata": {},
   "source": []
  },
  {
   "cell_type": "code",
   "execution_count": 17,
   "id": "6b09dae8",
   "metadata": {},
   "outputs": [
    {
     "name": "stdout",
     "output_type": "stream",
     "text": [
      "List of total rewards:  [1120, 3383, 739, 2277, 1463, 1449, 2297, 2712, 2477, 1111, 1107, 2033, 1822, 732, 1624, 736, 1445, 1641, 1868, 1912, 2128, 2028, 1647, 736, 1636, 1703, 2335, 1895, 2176, 2238]\n",
      "List of total score:  [0, 1000, 0, 600, 100, 0, 1000, 1200, 400, 200, 0, 0, 400, 0, 100, 200, 100, 100, 200, 100, 400, 500, 0, 400, 0, 600, 900, 200, 100, 400]\n",
      "List of total times being alive:  [15, 41, 5, 30, 3, 12, 36, 3, 7, 5, 5, 3, 33, 5, 3, 5, 21, 4, 34, 18, 3, 4, 3, 5, 5, 15, 28, 17, 34, 10]\n"
     ]
    },
    {
     "ename": "",
     "evalue": "",
     "output_type": "error",
     "traceback": [
      "\u001b[1;31mThe Kernel crashed while executing code in the the current cell or a previous cell. Please review the code in the cell(s) to identify a possible cause of the failure. Click <a href='https://aka.ms/vscodeJupyterKernelCrash'>here</a> for more info. View Jupyter <a href='command:jupyter.viewOutput'>log</a> for further details."
     ]
    }
   ],
   "source": [
    "#Llamada a la función de evaluación del modelo\n",
    "run(30)"
   ]
  }
 ],
 "metadata": {
  "kernelspec": {
   "display_name": "Python 3.7.11 ('entornoTFGgpu')",
   "language": "python",
   "name": "python3"
  },
  "language_info": {
   "codemirror_mode": {
    "name": "ipython",
    "version": 3
   },
   "file_extension": ".py",
   "mimetype": "text/x-python",
   "name": "python",
   "nbconvert_exporter": "python",
   "pygments_lexer": "ipython3",
   "version": "3.7.11"
  },
  "vscode": {
   "interpreter": {
    "hash": "76c345bf07b92f4d0e2923a4c7fb730f0fc79469be65c901934659d18b2a6a5a"
   }
  }
 },
 "nbformat": 4,
 "nbformat_minor": 5
}
